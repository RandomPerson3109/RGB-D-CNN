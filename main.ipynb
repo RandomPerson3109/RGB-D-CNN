{
 "cells": [
  {
   "cell_type": "code",
   "outputs": [],
   "source": [
    "import csv\n",
    "import os\n",
    "import pandas as pd\n",
    "import torch\n",
    "import torch.optim as optim\n",
    "from PIL import Image\n",
    "from torch.utils.data import Dataset\n",
    "from torchvision import transforms\n",
    "from time import time"
   ],
   "metadata": {
    "collapsed": false,
    "ExecuteTime": {
     "end_time": "2024-01-31T05:26:28.988676Z",
     "start_time": "2024-01-31T05:26:26.401582700Z"
    }
   },
   "id": "91e1f74f625086a9",
   "execution_count": 1
  },
  {
   "cell_type": "code",
   "outputs": [
    {
     "name": "stdout",
     "output_type": "stream",
     "text": [
      "CSV files created.\n"
     ]
    }
   ],
   "source": [
    "def create_csv(root_folder, output_csv):\n",
    "    with open(output_csv, mode='w', newline='') as file:\n",
    "        writer = csv.writer(file)\n",
    "        writer.writerow(['image_filename', 'label'])\n",
    "\n",
    "        for label in os.listdir(root_folder):\n",
    "            label_path = os.path.join(root_folder, label)\n",
    "            if os.path.isdir(label_path):\n",
    "                for image_filename in os.listdir(label_path):\n",
    "                    image_path = os.path.join(label, image_filename)\n",
    "                    label_value = int(label)\n",
    "                    writer.writerow([image_path, label_value])\n",
    "\n",
    "# Specify the path to your \"Train\" and \"Test\" dataset folders\n",
    "train_dataset_folder = 'Train/'\n",
    "test_dataset_folder = 'Test/'\n",
    "\n",
    "# Create the CSV files\n",
    "create_csv(train_dataset_folder, \"Train/train.csv\")\n",
    "create_csv(test_dataset_folder, \"Test/test.csv\")\n",
    "\n",
    "print('CSV files created.')"
   ],
   "metadata": {
    "collapsed": false,
    "ExecuteTime": {
     "end_time": "2024-01-31T05:26:29.645456800Z",
     "start_time": "2024-01-31T05:26:29.586668500Z"
    }
   },
   "id": "e17880ebb31181ab",
   "execution_count": 2
  },
  {
   "cell_type": "code",
   "outputs": [],
   "source": [
    "class AIDER(Dataset):\n",
    "    def __init__(self, annotations_file, img_dir, transform=None, target_transform=None):\n",
    "        self.img_labels = pd.read_csv(annotations_file)\n",
    "        self.img_dir = img_dir\n",
    "        self.transform = transform\n",
    "        self.target_transform = target_transform\n",
    "\n",
    "    def __len__(self):\n",
    "        return len(self.img_labels)\n",
    "\n",
    "    def __getitem__(self, idx):\n",
    "        img_path = os.path.join(self.img_dir, self.img_labels.iloc[idx, 0])\n",
    "\n",
    "        # Use PIL to open and transform the image\n",
    "        image = Image.open(img_path).convert('RGB')\n",
    "\n",
    "        label = int(self.img_labels.iloc[idx, 1])  # Convert label to integer\n",
    "        if self.transform:\n",
    "            image = self.transform(image)\n",
    "        if self.target_transform:\n",
    "            label = self.target_transform(label)\n",
    "\n",
    "        # Convert label to torch.LongTensor\n",
    "        label = torch.LongTensor([label])\n",
    "        return image, label"
   ],
   "metadata": {
    "collapsed": false,
    "ExecuteTime": {
     "end_time": "2024-01-31T05:26:30.346908900Z",
     "start_time": "2024-01-31T05:26:30.339160800Z"
    }
   },
   "id": "e2348f69b1528ad4",
   "execution_count": 3
  },
  {
   "cell_type": "code",
   "outputs": [
    {
     "name": "stderr",
     "output_type": "stream",
     "text": [
      "Using cache found in C:\\Users\\최신우/.cache\\torch\\hub\\pytorch_vision_v0.10.0\n",
      "C:\\Users\\최신우\\AppData\\Local\\Programs\\Python\\Python311\\Lib\\site-packages\\torchvision\\models\\_utils.py:208: UserWarning: The parameter 'pretrained' is deprecated since 0.13 and may be removed in the future, please use 'weights' instead.\n",
      "  warnings.warn(\n",
      "C:\\Users\\최신우\\AppData\\Local\\Programs\\Python\\Python311\\Lib\\site-packages\\torchvision\\models\\_utils.py:223: UserWarning: Arguments other than a weight enum or `None` for 'weights' are deprecated since 0.13 and may be removed in the future. The current behavior is equivalent to passing `weights=None`.\n",
      "  warnings.warn(msg)\n",
      "C:\\Users\\최신우\\AppData\\Local\\Programs\\Python\\Python311\\Lib\\site-packages\\torchvision\\models\\googlenet.py:47: FutureWarning: The default weight initialization of GoogleNet will be changed in future releases of torchvision. If you wish to keep the old behavior (which leads to long initialization times due to scipy/scipy#11299), please set init_weights=True.\n",
      "  warnings.warn(\n"
     ]
    }
   ],
   "source": [
    "model = torch.hub.load('pytorch/vision:v0.10.0', 'googlenet', pretrained=False)\n",
    "in_features = model.fc.in_features\n",
    "model.fc = torch.nn.Linear(in_features, 5)"
   ],
   "metadata": {
    "collapsed": false,
    "ExecuteTime": {
     "end_time": "2024-01-31T05:26:31.726813800Z",
     "start_time": "2024-01-31T05:26:31.578346400Z"
    }
   },
   "id": "916b9f2cecb1b27d",
   "execution_count": 4
  },
  {
   "cell_type": "code",
   "outputs": [],
   "source": [
    "training_data = AIDER(\n",
    "    annotations_file=\"Train/train.csv\",\n",
    "    img_dir=\"Train/\",\n",
    "    transform=transforms.Compose([\n",
    "        transforms.Resize((224, 224)),\n",
    "        transforms.ToTensor(),\n",
    "    ])\n",
    ")\n",
    "\n",
    "test_data = AIDER(\n",
    "    annotations_file=\"Test/test.csv\",\n",
    "    img_dir=\"Test/\",\n",
    "    transform=transforms.Compose([\n",
    "        transforms.Resize((224, 224)),\n",
    "        transforms.ToTensor(),\n",
    "    ])\n",
    ")\n",
    "\n",
    "train_loader = torch.utils.data.DataLoader(training_data, batch_size=32, shuffle=True, pin_memory=True)\n",
    "test_loader = torch.utils.data.DataLoader(test_data, batch_size=32, shuffle=False, pin_memory=True)"
   ],
   "metadata": {
    "collapsed": false,
    "ExecuteTime": {
     "end_time": "2024-01-31T05:26:36.481122Z",
     "start_time": "2024-01-31T05:26:36.462182100Z"
    }
   },
   "id": "e81e6fbed7fa2376",
   "execution_count": 5
  },
  {
   "cell_type": "code",
   "outputs": [
    {
     "name": "stdout",
     "output_type": "stream",
     "text": [
      "GPU is not available. Switching to CPU.\n",
      "Epoch 1/20, Batch 7/161, Loss: 1.2401175924709864, Time taken since last batch: 16.16s, Total time taken: 16.16s\n",
      "Epoch 1/20, Batch 14/161, Loss: 1.0924789905548096, Time taken since last batch: 14.45s, Total time taken: 30.61s\n",
      "Epoch 1/20, Batch 21/161, Loss: 1.044010789621444, Time taken since last batch: 14.34s, Total time taken: 44.95s\n"
     ]
    }
   ],
   "source": [
    "if torch.cuda.is_available():\n",
    "    print(\"GPU is available.\")\n",
    "else:\n",
    "    print(\"GPU is not available. Switching to CPU.\")\n",
    "\n",
    "\n",
    "device = torch.device(\"cuda\" if torch.cuda.is_available() else \"cpu\")\n",
    "model = model.to(device)\n",
    "\n",
    "criterion = torch.nn.CrossEntropyLoss().to(device)\n",
    "optimizer = optim.Adam(model.parameters(), lr=0.001)\n",
    "\n",
    "# Function to train the model\n",
    "def train(model, train_loader, optimizer, criterion, num_epochs=5, print_every=10):\n",
    "    for epoch in range(num_epochs):\n",
    "        model.train()\n",
    "        running_loss = 0.0\n",
    "        initial_time = time()\n",
    "        prev_time = initial_time\n",
    "        for i, (inputs, labels) in enumerate(train_loader, 1):\n",
    "            optimizer.zero_grad()\n",
    "            \n",
    "            # Move inputs and labels to GPU\n",
    "            inputs, labels = inputs.to(device), labels.to(device)\n",
    "\n",
    "            outputs, *_ = model(inputs)\n",
    "            loss = criterion(outputs, labels.squeeze())\n",
    "            loss.backward()\n",
    "            optimizer.step()\n",
    "            running_loss += loss.item()\n",
    "\n",
    "            # Print the loss every print_every batches\n",
    "            if i % print_every == 0 or i == len(train_loader):\n",
    "                avg_loss = running_loss / i\n",
    "                print(f'Epoch {epoch + 1}/{num_epochs}, Batch {i}/{len(train_loader)}, Loss: {avg_loss}, Time taken since last batch: {time() - prev_time:.2f}s, Total time taken: {time() - initial_time:.2f}s')\n",
    "                prev_time = time()\n",
    "\n",
    "# Train the model\n",
    "num_epochs = 20  # You can adjust this value\n",
    "print_every = 7  # Print loss every 10 batches\n",
    "train(model, train_loader, optimizer, criterion, num_epochs, print_every)"
   ],
   "metadata": {
    "collapsed": false,
    "is_executing": true,
    "ExecuteTime": {
     "start_time": "2024-01-31T05:31:47.484171800Z"
    }
   },
   "id": "ce250269c784056d",
   "execution_count": null
  },
  {
   "cell_type": "code",
   "outputs": [],
   "source": [
    "# Evaluate the model on the test set\n",
    "model.eval()\n",
    "correct = 0\n",
    "total = 0\n",
    "predicted_labels = []\n",
    "\n",
    "with torch.no_grad():\n",
    "    for inputs, labels in test_loader:\n",
    "        # Move inputs and labels to GPU\n",
    "        inputs, labels = inputs.to(device), labels.to(device)\n",
    "\n",
    "        outputs = model(inputs)\n",
    "        _, predicted = torch.max(outputs.data, 1)\n",
    "        labels = labels.flatten()\n",
    "        predicted = predicted.flatten()\n",
    "        total += labels.size(0)\n",
    "        correct += (predicted == labels).sum().item()\n",
    "\n",
    "        # Append the predicted labels to the list\n",
    "        predicted_labels.extend(predicted.tolist())\n",
    "\n",
    "# Convert predicted labels to their corresponding class names\n",
    "class_mapping = {0: 'normal', 1: 'fire', 2: 'flood', 3: 'collapsed_buildings', 4: 'car_accident'}\n",
    "predicted_labels = [class_mapping[i] for i in predicted_labels]\n",
    "\n",
    "# Calculate accuracy\n",
    "accuracy = correct / total\n",
    "print(f'Test Accuracy: {100 * accuracy:.2f}%')"
   ],
   "metadata": {
    "collapsed": false
   },
   "id": "50e9027f1d589da0",
   "execution_count": null
  },
  {
   "cell_type": "code",
   "outputs": [],
   "source": [],
   "metadata": {
    "collapsed": false
   },
   "id": "8c50a4ecaebb31b1"
  }
 ],
 "metadata": {
  "kernelspec": {
   "display_name": "Python 3",
   "language": "python",
   "name": "python3"
  },
  "language_info": {
   "codemirror_mode": {
    "name": "ipython",
    "version": 2
   },
   "file_extension": ".py",
   "mimetype": "text/x-python",
   "name": "python",
   "nbconvert_exporter": "python",
   "pygments_lexer": "ipython2",
   "version": "2.7.6"
  }
 },
 "nbformat": 4,
 "nbformat_minor": 5
}
