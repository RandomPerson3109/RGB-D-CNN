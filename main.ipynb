{
 "cells": [
  {
   "cell_type": "code",
   "execution_count": 83,
   "id": "91e1f74f625086a9",
   "metadata": {
    "ExecuteTime": {
     "end_time": "2024-02-01T02:57:47.618158600Z",
     "start_time": "2024-02-01T02:57:47.610496200Z"
    },
    "collapsed": false
   },
   "outputs": [],
   "source": [
    "import csv\n",
    "import os\n",
    "import pandas as pd\n",
    "import torch\n",
    "import torch.optim as optim\n",
    "from PIL import Image\n",
    "from torch.utils.data import Dataset\n",
    "from torchvision import transforms\n",
    "from time import time\n",
    "from sklearn.metrics import confusion_matrix\n",
    "import seaborn as sns\n",
    "import matplotlib.pyplot as plt\n",
    "import numpy as np"
   ]
  },
  {
   "cell_type": "code",
   "execution_count": 84,
   "id": "e17880ebb31181ab",
   "metadata": {
    "ExecuteTime": {
     "end_time": "2024-02-01T02:57:47.651498600Z",
     "start_time": "2024-02-01T02:57:47.615158100Z"
    },
    "collapsed": false
   },
   "outputs": [
    {
     "name": "stdout",
     "output_type": "stream",
     "text": [
      "CSV files created.\n"
     ]
    }
   ],
   "source": [
    "def create_csv(root_folder, output_csv):\n",
    "    with open(output_csv, mode='w', newline='') as file:\n",
    "        writer = csv.writer(file)\n",
    "        writer.writerow(['image_filename', 'label'])\n",
    "\n",
    "        for label in os.listdir(root_folder):\n",
    "            label_path = os.path.join(root_folder, label)\n",
    "            if os.path.isdir(label_path):\n",
    "                for image_filename in os.listdir(label_path):\n",
    "                    image_path = os.path.join(label, image_filename)\n",
    "                    label_value = int(label)\n",
    "                    writer.writerow([image_path, label_value])\n",
    "\n",
    "# Specify the path to your \"Train\" and \"Test\" dataset folders\n",
    "train_dataset_folder = 'Train/'\n",
    "test_dataset_folder = 'Test/'\n",
    "validation_dataset_folder = \"Validation/\"\n",
    "\n",
    "# Create the CSV files\n",
    "create_csv(train_dataset_folder, \"Train/train.csv\")\n",
    "create_csv(test_dataset_folder, \"Test/test.csv\")\n",
    "create_csv(validation_dataset_folder, \"Validation/validation.csv\")\n",
    "\n",
    "print('CSV files created.')"
   ]
  },
  {
   "cell_type": "code",
   "execution_count": 85,
   "id": "e2348f69b1528ad4",
   "metadata": {
    "ExecuteTime": {
     "end_time": "2024-02-01T02:57:47.652505800Z",
     "start_time": "2024-02-01T02:57:47.639792900Z"
    },
    "collapsed": false
   },
   "outputs": [],
   "source": [
    "class AIDER(Dataset):\n",
    "    def __init__(self, annotations_file, img_dir, transform=None, target_transform=None):\n",
    "        self.img_labels = pd.read_csv(annotations_file)\n",
    "        self.img_dir = img_dir\n",
    "        self.transform = transform\n",
    "        self.target_transform = target_transform\n",
    "\n",
    "    def __len__(self):\n",
    "        return len(self.img_labels)\n",
    "\n",
    "    def __getitem__(self, idx):\n",
    "        img_path = os.path.join(self.img_dir, self.img_labels.iloc[idx, 0])\n",
    "\n",
    "        # Use PIL to open and transform the image\n",
    "        image = Image.open(img_path).convert('RGB')\n",
    "\n",
    "        label = int(self.img_labels.iloc[idx, 1])  # Convert label to integer\n",
    "        if self.transform:\n",
    "            image = self.transform(image)\n",
    "        if self.target_transform:\n",
    "            label = self.target_transform(label)\n",
    "\n",
    "        # Convert label to torch.LongTensor\n",
    "        label = torch.LongTensor([label])\n",
    "        return image, label"
   ]
  },
  {
   "cell_type": "code",
   "execution_count": 86,
   "id": "916b9f2cecb1b27d",
   "metadata": {
    "ExecuteTime": {
     "end_time": "2024-02-01T02:57:47.790479400Z",
     "start_time": "2024-02-01T02:57:47.644973800Z"
    },
    "collapsed": false
   },
   "outputs": [
    {
     "name": "stderr",
     "output_type": "stream",
     "text": [
      "Using cache found in C:\\Users\\최신우/.cache\\torch\\hub\\pytorch_vision_v0.10.0\n",
      "C:\\Users\\최신우\\AppData\\Local\\Programs\\Python\\Python311\\Lib\\site-packages\\torchvision\\models\\_utils.py:208: UserWarning: The parameter 'pretrained' is deprecated since 0.13 and may be removed in the future, please use 'weights' instead.\n",
      "  warnings.warn(\n",
      "C:\\Users\\최신우\\AppData\\Local\\Programs\\Python\\Python311\\Lib\\site-packages\\torchvision\\models\\_utils.py:223: UserWarning: Arguments other than a weight enum or `None` for 'weights' are deprecated since 0.13 and may be removed in the future. The current behavior is equivalent to passing `weights=None`.\n",
      "  warnings.warn(msg)\n",
      "C:\\Users\\최신우\\AppData\\Local\\Programs\\Python\\Python311\\Lib\\site-packages\\torchvision\\models\\googlenet.py:47: FutureWarning: The default weight initialization of GoogleNet will be changed in future releases of torchvision. If you wish to keep the old behavior (which leads to long initialization times due to scipy/scipy#11299), please set init_weights=True.\n",
      "  warnings.warn(\n"
     ]
    }
   ],
   "source": [
    "model = torch.hub.load('pytorch/vision:v0.10.0', 'googlenet', pretrained=False)\n",
    "in_features = model.fc.in_features\n",
    "model.fc = torch.nn.Linear(in_features, 5)"
   ]
  },
  {
   "cell_type": "code",
   "execution_count": 87,
   "id": "e81e6fbed7fa2376",
   "metadata": {
    "ExecuteTime": {
     "end_time": "2024-02-01T02:57:47.799362Z",
     "start_time": "2024-02-01T02:57:47.785116200Z"
    },
    "collapsed": false
   },
   "outputs": [],
   "source": [
    "training_data = AIDER(\n",
    "    annotations_file=\"Train/train.csv\",\n",
    "    img_dir=\"Train/\",\n",
    "    transform=transforms.Compose([\n",
    "        transforms.RandomResizedCrop(224),\n",
    "        transforms.RandomHorizontalFlip(),\n",
    "        transforms.ColorJitter(brightness=0.2, contrast=0.2, saturation=0.2, hue=0.1),\n",
    "        transforms.ToTensor(),\n",
    "        transforms.Normalize(mean=[0.485, 0.456, 0.406], std=[0.229, 0.224, 0.225]),\n",
    "    ])\n",
    ")\n",
    "\n",
    "test_data = AIDER(\n",
    "    annotations_file=\"Test/test.csv\",\n",
    "    img_dir=\"Test/\",\n",
    "    transform=transforms.Compose([\n",
    "        transforms.Resize(256),\n",
    "        transforms.CenterCrop(224),\n",
    "        transforms.ToTensor(),\n",
    "        transforms.Normalize(mean=[0.485, 0.456, 0.406], std=[0.229, 0.224, 0.225]),\n",
    "    ])\n",
    ")\n",
    "\n",
    "validation_data = AIDER(\n",
    "    annotations_file=\"Validation/validation.csv\",\n",
    "    img_dir=\"Validation/\",\n",
    "    transform=transforms.Compose([\n",
    "        transforms.Resize(256),\n",
    "        transforms.CenterCrop(224),\n",
    "        transforms.ToTensor(),\n",
    "        transforms.Normalize(mean=[0.485, 0.456, 0.406], std=[0.229, 0.224, 0.225]),\n",
    "    ])\n",
    ")\n",
    "\n",
    "\n",
    "\n",
    "train_loader = torch.utils.data.DataLoader(training_data, batch_size=32, shuffle=True, pin_memory=True)\n",
    "test_loader = torch.utils.data.DataLoader(test_data, batch_size=32, shuffle=False, pin_memory=True)\n",
    "validation_loader = torch.utils.data.DataLoader(validation_data, batch_size=32, shuffle=False, pin_memory=True)"
   ]
  },
  {
   "cell_type": "code",
   "execution_count": 88,
   "id": "ce250269c784056d",
   "metadata": {
    "ExecuteTime": {
     "end_time": "2024-02-01T05:13:21.431949900Z",
     "start_time": "2024-02-01T02:57:47.799362Z"
    },
    "collapsed": false
   },
   "outputs": [
    {
     "name": "stdout",
     "output_type": "stream",
     "text": [
      "GPU is available.\n",
      "Epoch 1/200, Batch 5/114, Loss: 1.5142498016357422, Time taken since last batch: 2.06s, Total time taken: 2.06s\n",
      "Epoch 1/200, Batch 10/114, Loss: 1.3069972157478333, Time taken since last batch: 1.60s, Total time taken: 3.66s\n",
      "Epoch 1/200, Batch 15/114, Loss: 1.24602929353714, Time taken since last batch: 1.66s, Total time taken: 5.32s\n",
      "Epoch 1/200, Batch 20/114, Loss: 1.2098620176315307, Time taken since last batch: 1.77s, Total time taken: 7.09s\n",
      "Epoch 1/200, Batch 25/114, Loss: 1.185713927745819, Time taken since last batch: 1.81s, Total time taken: 8.91s\n",
      "Epoch 1/200, Batch 30/114, Loss: 1.1473701258500417, Time taken since last batch: 1.67s, Total time taken: 10.58s\n",
      "Epoch 1/200, Batch 35/114, Loss: 1.152069079875946, Time taken since last batch: 1.74s, Total time taken: 12.32s\n",
      "Epoch 1/200, Batch 40/114, Loss: 1.1549370303750037, Time taken since last batch: 1.69s, Total time taken: 14.01s\n",
      "Epoch 1/200, Batch 45/114, Loss: 1.1371914241049024, Time taken since last batch: 1.69s, Total time taken: 15.70s\n",
      "Epoch 1/200, Batch 50/114, Loss: 1.1397067630290985, Time taken since last batch: 1.70s, Total time taken: 17.39s\n",
      "Epoch 1/200, Batch 55/114, Loss: 1.1479472377083517, Time taken since last batch: 1.63s, Total time taken: 19.03s\n",
      "Epoch 1/200, Batch 60/114, Loss: 1.1563468078772228, Time taken since last batch: 1.61s, Total time taken: 20.64s\n",
      "Epoch 1/200, Batch 65/114, Loss: 1.1558272517644441, Time taken since last batch: 1.58s, Total time taken: 22.22s\n",
      "Epoch 1/200, Batch 70/114, Loss: 1.1531744360923768, Time taken since last batch: 1.61s, Total time taken: 23.82s\n",
      "Epoch 1/200, Batch 75/114, Loss: 1.1500330956776936, Time taken since last batch: 1.61s, Total time taken: 25.44s\n",
      "Epoch 1/200, Batch 80/114, Loss: 1.145747461915016, Time taken since last batch: 1.60s, Total time taken: 27.04s\n",
      "Epoch 1/200, Batch 85/114, Loss: 1.1451631174368018, Time taken since last batch: 1.65s, Total time taken: 28.69s\n",
      "Epoch 1/200, Batch 90/114, Loss: 1.1433806505468156, Time taken since last batch: 1.61s, Total time taken: 30.30s\n",
      "Epoch 1/200, Batch 95/114, Loss: 1.1324622009929857, Time taken since last batch: 1.65s, Total time taken: 31.95s\n",
      "Epoch 1/200, Batch 100/114, Loss: 1.1273550134897232, Time taken since last batch: 1.77s, Total time taken: 33.71s\n",
      "Epoch 1/200, Batch 105/114, Loss: 1.1190705844334194, Time taken since last batch: 1.74s, Total time taken: 35.45s\n",
      "Epoch 1/200, Batch 110/114, Loss: 1.1208058639006182, Time taken since last batch: 1.61s, Total time taken: 37.06s\n",
      "Epoch 1/200, Batch 114/114, Loss: 1.117063809382288, Time taken since last batch: 1.15s, Total time taken: 38.21s\n",
      "\n",
      "Validation Loss: 1.4507567405700683, Validation Accuracy: 39.67%\n",
      "Epoch 2/200, Batch 5/114, Loss: 1.008581030368805, Time taken since last batch: 1.72s, Total time taken: 1.72s\n",
      "Epoch 2/200, Batch 10/114, Loss: 0.977223914861679, Time taken since last batch: 1.61s, Total time taken: 3.33s\n",
      "Epoch 2/200, Batch 15/114, Loss: 0.9777179002761841, Time taken since last batch: 1.66s, Total time taken: 4.99s\n",
      "Epoch 2/200, Batch 20/114, Loss: 0.9941859990358353, Time taken since last batch: 1.63s, Total time taken: 6.62s\n",
      "Epoch 2/200, Batch 25/114, Loss: 1.017058916091919, Time taken since last batch: 1.78s, Total time taken: 8.40s\n",
      "Epoch 2/200, Batch 30/114, Loss: 0.9962279220422109, Time taken since last batch: 1.75s, Total time taken: 10.15s\n",
      "Epoch 2/200, Batch 35/114, Loss: 1.0048943161964417, Time taken since last batch: 1.69s, Total time taken: 11.84s\n",
      "Epoch 2/200, Batch 40/114, Loss: 0.988204212486744, Time taken since last batch: 1.73s, Total time taken: 13.57s\n",
      "Epoch 2/200, Batch 45/114, Loss: 0.9834575494130452, Time taken since last batch: 1.61s, Total time taken: 15.18s\n",
      "Epoch 2/200, Batch 50/114, Loss: 0.9773362469673157, Time taken since last batch: 1.83s, Total time taken: 17.01s\n",
      "Epoch 2/200, Batch 55/114, Loss: 0.975598354773088, Time taken since last batch: 1.75s, Total time taken: 18.76s\n",
      "Epoch 2/200, Batch 60/114, Loss: 0.9949911326169968, Time taken since last batch: 1.81s, Total time taken: 20.57s\n",
      "Epoch 2/200, Batch 65/114, Loss: 0.9865773228498605, Time taken since last batch: 1.69s, Total time taken: 22.26s\n",
      "Epoch 2/200, Batch 70/114, Loss: 0.9855703226157597, Time taken since last batch: 1.60s, Total time taken: 23.86s\n",
      "Epoch 2/200, Batch 75/114, Loss: 0.9926448432604472, Time taken since last batch: 1.65s, Total time taken: 25.51s\n",
      "Epoch 2/200, Batch 80/114, Loss: 0.9983531482517719, Time taken since last batch: 1.72s, Total time taken: 27.24s\n",
      "Epoch 2/200, Batch 85/114, Loss: 1.0014243714949664, Time taken since last batch: 1.68s, Total time taken: 28.91s\n",
      "Epoch 2/200, Batch 90/114, Loss: 1.0075613465574054, Time taken since last batch: 1.67s, Total time taken: 30.59s\n",
      "Epoch 2/200, Batch 95/114, Loss: 1.008341920375824, Time taken since last batch: 1.71s, Total time taken: 32.30s\n",
      "Epoch 2/200, Batch 100/114, Loss: 1.0072776275873183, Time taken since last batch: 1.70s, Total time taken: 34.00s\n",
      "Epoch 2/200, Batch 105/114, Loss: 1.0079591898691087, Time taken since last batch: 2.05s, Total time taken: 36.05s\n",
      "Epoch 2/200, Batch 110/114, Loss: 1.0021047321232883, Time taken since last batch: 1.70s, Total time taken: 37.75s\n",
      "Epoch 2/200, Batch 114/114, Loss: 0.9964486219381031, Time taken since last batch: 1.24s, Total time taken: 38.99s\n",
      "\n",
      "And then more input\n",
      "\n",
      "Validation Loss: 0.3916650120168924, Validation Accuracy: 88.33%\n"
     ]
    }
   ],
   "source": [
    "if torch.cuda.is_available():\n",
    "    print(\"GPU is available.\")\n",
    "else:\n",
    "    print(\"GPU is not available. Switching to CPU.\")\n",
    "device = torch.device(\"cuda\" if torch.cuda.is_available() else \"cpu\")\n",
    "model = model.to(device)\n",
    "criterion = torch.nn.CrossEntropyLoss().to(device)\n",
    "optimizer = optim.Adam(model.parameters(), lr=0.001)\n",
    "# Function to train the model\n",
    "def train(model, train_loader, optimizer, criterion, num_epochs=5, print_every=10):\n",
    "    for epoch in range(num_epochs):\n",
    "        model.train()\n",
    "        running_loss = 0.0\n",
    "        initial_time = time()\n",
    "        prev_time = initial_time\n",
    "        for i, (inputs, labels) in enumerate(train_loader, 1):\n",
    "            optimizer.zero_grad()\n",
    "            # Move inputs and labels to GPU\n",
    "            inputs, labels = inputs.to(device), labels.to(device)\n",
    "            outputs, *_ = model(inputs)\n",
    "            loss = criterion(outputs, labels.squeeze())\n",
    "            loss.backward()\n",
    "            optimizer.step()\n",
    "            running_loss += loss.item()\n",
    "            # Print the loss every print_every batches\n",
    "            if i % print_every == 0 or i == len(train_loader):\n",
    "                avg_loss = running_loss / i\n",
    "                print(f'Epoch {epoch + 1}/{num_epochs}, Batch {i}/{len(train_loader)}, Loss: {avg_loss}, Time taken since last batch: {time() - prev_time:.2f}s, Total time taken: {time() - initial_time:.2f}s')\n",
    "                prev_time = time()\n",
    "        model.eval()\n",
    "        val_loss = 0.0\n",
    "        correct_val = 0\n",
    "        total_val = 0\n",
    "        with torch.no_grad():\n",
    "            for inputs, labels in validation_loader:\n",
    "                inputs, labels = inputs.to(device), labels.to(device)\n",
    "                outputs = model(inputs)\n",
    "                loss = criterion(outputs, labels.squeeze())\n",
    "                val_loss += loss.item()\n",
    "                _, predicted = torch.max(outputs, 1)\n",
    "                labels = labels.flatten()\n",
    "                total_val += labels.size(0)\n",
    "                correct_val += (predicted == labels).sum().item()\n",
    "        # Calculate average validation loss\n",
    "        avg_val_loss = val_loss / len(validation_loader)\n",
    "        # Calculate accuracy\n",
    "        accuracy_val = correct_val / total_val\n",
    "        print(f'\\nValidation Loss: {avg_val_loss}, Validation Accuracy: {100 * accuracy_val:.2f}%\\n')\n",
    "num_epochs = 200# You can adjust this value\n",
    "print_every = 5  # Print loss every 10 batches\n",
    "train(model, train_loader, optimizer, criterion, num_epochs, print_every)"
   ]
  },
  {
   "cell_type": "code",
   "execution_count": 89,
   "id": "50e9027f1d589da0",
   "metadata": {
    "ExecuteTime": {
     "end_time": "2024-02-01T05:13:24.257191900Z",
     "start_time": "2024-02-01T05:13:21.428923800Z"
    },
    "collapsed": false
   },
   "outputs": [
    {
     "name": "stdout",
     "output_type": "stream",
     "text": [
      "Test Accuracy: 85.10%\n"
     ]
    }
   ],
   "source": [
    "# Evaluate the model on the test set\n",
    "model.eval()\n",
    "correct = 0\n",
    "total = 0\n",
    "predicted_labels = []\n",
    "\n",
    "with torch.no_grad():\n",
    "    for inputs, labels in test_loader:\n",
    "        # Move inputs and labels to GPU\n",
    "        inputs, labels = inputs.to(device), labels.to(device)\n",
    "\n",
    "        outputs = model(inputs)\n",
    "        _, predicted = torch.max(outputs.data, 1)\n",
    "        labels = labels.flatten()\n",
    "        predicted = predicted.flatten()\n",
    "        total += labels.size(0)\n",
    "        correct += (predicted == labels).sum().item()\n",
    "\n",
    "        # Append the predicted labels to the list\n",
    "        predicted_labels.extend(predicted.tolist())\n",
    "\n",
    "accuracy = correct / total\n",
    "print(f'Test Accuracy: {100 * accuracy:.2f}%')"
   ]
  },
  {
   "cell_type": "code",
   "execution_count": 95,
   "id": "8a601b67a4bb18f1",
   "metadata": {
    "collapsed": false,
    "ExecuteTime": {
     "end_time": "2024-02-01T05:19:43.960272700Z",
     "start_time": "2024-02-01T05:19:43.806597700Z"
    }
   },
   "outputs": [
    {
     "data": {
      "text/plain": "<Figure size 800x600 with 2 Axes>",
      "image/png": "[encoded data removed]"
     },
     "metadata": {},
     "output_type": "display_data"
    }
   ],
   "source": [
    "def plot_confusion_matrix(true_labels, predicted_labels, class_names):\n",
    "    # Convert class names to indices for plotting\n",
    "    cm = confusion_matrix(true_labels, predicted_labels)\n",
    "    plt.figure(figsize=(8, 6))\n",
    "    sns.heatmap(cm, annot=True, fmt=\"d\", cmap=\"Blues\", xticklabels=class_names, yticklabels=class_names)\n",
    "    plt.xlabel('Predicted')\n",
    "    plt.ylabel('True')\n",
    "    plt.title('Confusion Matrix')\n",
    "    plt.show()\n",
    "\n",
    "class_mapping = {0: 'normal', 1: 'fire', 2: 'flood', 3: 'collapsed_buildings', 4: 'car_accident'}\n",
    "\n",
    "predicted_labels = np.array(predicted_labels)\n",
    "true_labels = [class_mapping[label] for label in test_data.img_labels['label']]\n",
    "true_labels = np.array([list(class_mapping.keys())[list(class_mapping.values()).index(label)] for label in true_labels])\n",
    "# Plot the confusion matrix\n",
    "plot_confusion_matrix(true_labels, predicted_labels, class_mapping.values())"
   ]
  },
  {
   "cell_type": "code",
   "execution_count": null,
   "id": "d8db3a6af1bc1123",
   "metadata": {
    "ExecuteTime": {
     "start_time": "2024-02-01T05:13:24.300953800Z"
    },
    "collapsed": false
   },
   "outputs": [],
   "source": []
  }
 ],
 "metadata": {
  "kernelspec": {
   "display_name": "Python 3",
   "language": "python",
   "name": "python3"
  },
  "language_info": {
   "codemirror_mode": {
    "name": "ipython",
    "version": 2
   },
   "file_extension": ".py",
   "mimetype": "text/x-python",
   "name": "python",
   "nbconvert_exporter": "python",
   "pygments_lexer": "ipython2",
   "version": "3.11.3"
  }
 },
 "nbformat": 4,
 "nbformat_minor": 5
}
