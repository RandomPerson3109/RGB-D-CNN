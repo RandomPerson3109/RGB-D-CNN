{
 "cells": [
  {
   "cell_type": "code",
   "execution_count": 7,
   "id": "initial_id",
   "metadata": {
    "ExecuteTime": {
     "end_time": "2024-02-07T03:04:29.680280700Z",
     "start_time": "2024-02-07T03:04:29.669472700Z"
    },
    "collapsed": true
   },
   "outputs": [],
   "source": [
    "import csv\n",
    "import os\n",
    "import pandas as pd\n",
    "import torch\n",
    "import torch.optim as optim\n",
    "from PIL import Image\n",
    "from torch.utils.data import Dataset\n",
    "from torchvision import transforms\n",
    "from time import time\n",
    "from sklearn.metrics import confusion_matrix\n",
    "import seaborn as sns\n",
    "import matplotlib.pyplot as plt\n",
    "import numpy as np\n",
    "from torch.optim.lr_scheduler import ReduceLROnPlateau\n",
    "from tqdm import tqdm"
   ]
  },
  {
   "cell_type": "code",
   "execution_count": 8,
   "id": "b5fa580c09642b96",
   "metadata": {
    "ExecuteTime": {
     "end_time": "2024-02-07T03:04:29.706570Z",
     "start_time": "2024-02-07T03:04:29.675136200Z"
    },
    "collapsed": false
   },
   "outputs": [
    {
     "name": "stdout",
     "output_type": "stream",
     "text": [
      "CSV files created.\n"
     ]
    }
   ],
   "source": [
    "def create_csv(root_folder, output_csv):\n",
    "    with open(output_csv, mode='w', newline='') as file:\n",
    "        writer = csv.writer(file)\n",
    "        writer.writerow(['image_filename', 'label'])\n",
    "\n",
    "        for label in os.listdir(root_folder):\n",
    "            label_path = os.path.join(root_folder, label)\n",
    "            if os.path.isdir(label_path):\n",
    "                for image_filename in os.listdir(label_path):\n",
    "                    image_path = os.path.join(label, image_filename)\n",
    "                    label_value = int(label)\n",
    "                    writer.writerow([image_path, label_value])\n",
    "\n",
    "# Specify the path to your \"Train\" and \"Test\" dataset folders\n",
    "train_dataset_folder = 'Train/'\n",
    "test_dataset_folder = 'Test/'\n",
    "validation_dataset_folder = \"Validation/\"\n",
    "\n",
    "# Create the CSV files\n",
    "create_csv(train_dataset_folder, \"Train/train.csv\")\n",
    "create_csv(test_dataset_folder, \"Test/test.csv\")\n",
    "create_csv(validation_dataset_folder, \"Validation/validation.csv\")\n",
    "\n",
    "print('CSV files created.')"
   ]
  },
  {
   "cell_type": "code",
   "execution_count": 9,
   "id": "c44c7b8b187ca9a4",
   "metadata": {
    "ExecuteTime": {
     "end_time": "2024-02-07T03:04:29.707602900Z",
     "start_time": "2024-02-07T03:04:29.702148500Z"
    },
    "collapsed": false
   },
   "outputs": [],
   "source": [
    "class AIDER(Dataset):\n",
    "    def __init__(self, annotations_file, img_dir, transform=None, target_transform=None):\n",
    "        self.img_labels = pd.read_csv(annotations_file)\n",
    "        self.img_dir = img_dir\n",
    "        self.transform = transform\n",
    "        self.target_transform = target_transform\n",
    "\n",
    "    def __len__(self):\n",
    "        return len(self.img_labels)\n",
    "\n",
    "    def __getitem__(self, idx):\n",
    "        img_path = os.path.join(self.img_dir, self.img_labels.iloc[idx, 0])\n",
    "\n",
    "        # Use PIL to open and transform the image\n",
    "        image = Image.open(img_path).convert('RGB')\n",
    "\n",
    "        label = int(self.img_labels.iloc[idx, 1])  # Convert label to integer\n",
    "        if self.transform:\n",
    "            image = self.transform(image)\n",
    "        if self.target_transform:\n",
    "            label = self.target_transform(label)\n",
    "\n",
    "        # Convert label to torch.LongTensor\n",
    "        label = torch.LongTensor([label])\n",
    "        return image, label"
   ]
  },
  {
   "cell_type": "code",
   "execution_count": 10,
   "id": "b47b45b5bdadb17b",
   "metadata": {
    "ExecuteTime": {
     "end_time": "2024-02-07T03:04:29.862476Z",
     "start_time": "2024-02-07T03:04:29.706570Z"
    },
    "collapsed": false
   },
   "outputs": [
    {
     "name": "stderr",
     "output_type": "stream",
     "text": [
      "Using cache found in C:\\Users\\최신우/.cache\\torch\\hub\\pytorch_vision_v0.10.0\n",
      "C:\\Users\\최신우\\AppData\\Local\\Programs\\Python\\Python311\\Lib\\site-packages\\torchvision\\models\\_utils.py:208: UserWarning: The parameter 'pretrained' is deprecated since 0.13 and may be removed in the future, please use 'weights' instead.\n",
      "  warnings.warn(\n",
      "C:\\Users\\최신우\\AppData\\Local\\Programs\\Python\\Python311\\Lib\\site-packages\\torchvision\\models\\_utils.py:223: UserWarning: Arguments other than a weight enum or `None` for 'weights' are deprecated since 0.13 and may be removed in the future. The current behavior is equivalent to passing `weights=None`.\n",
      "  warnings.warn(msg)\n",
      "C:\\Users\\최신우\\AppData\\Local\\Programs\\Python\\Python311\\Lib\\site-packages\\torchvision\\models\\googlenet.py:47: FutureWarning: The default weight initialization of GoogleNet will be changed in future releases of torchvision. If you wish to keep the old behavior (which leads to long initialization times due to scipy/scipy#11299), please set init_weights=True.\n",
      "  warnings.warn(\n"
     ]
    }
   ],
   "source": [
    "model = torch.hub.load('pytorch/vision:v0.10.0', 'googlenet', pretrained=False)\n",
    "in_features = model.fc.in_features\n",
    "model.fc = torch.nn.Linear(in_features, 5)"
   ]
  },
  {
   "cell_type": "code",
   "execution_count": 11,
   "id": "47d1c1e1cda8fb2f",
   "metadata": {
    "ExecuteTime": {
     "end_time": "2024-02-07T03:04:29.884680100Z",
     "start_time": "2024-02-07T03:04:29.866866800Z"
    },
    "collapsed": false
   },
   "outputs": [],
   "source": [
    "training_data = AIDER(\n",
    "    annotations_file=\"Train/train.csv\",\n",
    "    img_dir=\"Train/\",\n",
    "    transform=transforms.Compose([\n",
    "        transforms.RandomResizedCrop(224),\n",
    "        transforms.RandomHorizontalFlip(),\n",
    "        transforms.ColorJitter(brightness=0.2, contrast=0.2, saturation=0.2, hue=0.1),\n",
    "        transforms.ToTensor(),\n",
    "        transforms.Grayscale(num_output_channels=3),\n",
    "    ])\n",
    ")\n",
    "\n",
    "test_data = AIDER(\n",
    "    annotations_file=\"Test/test.csv\",\n",
    "    img_dir=\"Test/\",\n",
    "    transform=transforms.Compose([\n",
    "        transforms.Resize(256),\n",
    "        transforms.CenterCrop(224),\n",
    "        transforms.ToTensor(),\n",
    "        transforms.Grayscale(num_output_channels=3),\n",
    "    ])\n",
    ")\n",
    "\n",
    "validation_data = AIDER(\n",
    "    annotations_file=\"Validation/validation.csv\",\n",
    "    img_dir=\"Validation/\",\n",
    "    transform=transforms.Compose([\n",
    "        transforms.Resize(256),\n",
    "        transforms.CenterCrop(224),\n",
    "        transforms.ToTensor(),\n",
    "        transforms.Grayscale(num_output_channels=3),\n",
    "    ])\n",
    ")\n",
    "\n",
    "\n",
    "\n",
    "train_loader = torch.utils.data.DataLoader(training_data, batch_size=32, shuffle=True, pin_memory=True)\n",
    "test_loader = torch.utils.data.DataLoader(test_data, batch_size=32, shuffle=False, pin_memory=True)\n",
    "validation_loader = torch.utils.data.DataLoader(validation_data, batch_size=32, shuffle=False, pin_memory=True)"
   ]
  },
  {
   "cell_type": "code",
   "execution_count": 12,
   "id": "353a30d9a4445284",
   "metadata": {
    "ExecuteTime": {
     "end_time": "2024-02-07T03:48:08.827449300Z",
     "start_time": "2024-02-07T03:04:29.887756400Z"
    },
    "collapsed": false
   },
   "outputs": [
    {
     "name": "stderr",
     "output_type": "stream",
     "text": [
      "C:\\Users\\최신우\\AppData\\Local\\Programs\\Python\\Python311\\Lib\\site-packages\\torch\\optim\\lr_scheduler.py:28: UserWarning: The verbose parameter is deprecated. Please use get_last_lr() to access the learning rate.\n",
      "  warnings.warn(\"The verbose parameter is deprecated. Please use get_last_lr() \"\n"
     ]
    },
    {
     "name": "stdout",
     "output_type": "stream",
     "text": [
      "GPU is available.\n"
     ]
    },
    {
     "name": "stderr",
     "output_type": "stream",
     "text": [
      "100%|██████████| 114/114 [00:39<00:00,  2.88it/s, Epoch=1, Loss=1.17]\n"
     ]
    },
    {
     "name": "stdout",
     "output_type": "stream",
     "text": [
      "Epoch 1 finished. Took 39.61s.\n",
      "Validation Loss: 1.3685394704341889, Validation Accuracy: 41.00%\n"
     ]
    },
    {
     "name": "stderr",
     "output_type": "stream",
     "text": [
      "100%|██████████| 114/114 [00:37<00:00,  3.01it/s, Epoch=2, Loss=1.1] \n"
     ]
    },
    {
     "name": "stdout",
     "output_type": "stream",
     "text": [
      "Epoch 2 finished. Took 37.87s.\n",
      "Validation Loss: 1.4473367631435394, Validation Accuracy: 42.33%\n"
     ]
    },
    {
     "name": "stderr",
     "output_type": "stream",
     "text": [
      "100%|██████████| 114/114 [00:40<00:00,  2.79it/s, Epoch=3, Loss=1.05]\n"
     ]
    },
    {
     "name": "stdout",
     "output_type": "stream",
     "text": [
      "Epoch 3 finished. Took 40.85s.\n",
      "Validation Loss: 1.2804309666156768, Validation Accuracy: 40.00%\n"
     ]
    },
    {
     "name": "stderr",
     "output_type": "stream",
     "text": [
      "100%|██████████| 114/114 [00:39<00:00,  2.89it/s, Epoch=4, Loss=0.996]\n"
     ]
    },
    {
     "name": "stdout",
     "output_type": "stream",
     "text": [
      "Epoch 4 finished. Took 39.51s.\n",
      "Validation Loss: 1.5023435205221176, Validation Accuracy: 41.33%\n"
     ]
    },
    {
     "name": "stderr",
     "output_type": "stream",
     "text": [
      "100%|██████████| 114/114 [00:39<00:00,  2.91it/s, Epoch=5, Loss=0.963]\n"
     ]
    },
    {
     "name": "stdout",
     "output_type": "stream",
     "text": [
      "Epoch 5 finished. Took 39.15s.\n",
      "Validation Loss: 2.457615403831005, Validation Accuracy: 33.33%\n"
     ]
    },
    {
     "name": "stderr",
     "output_type": "stream",
     "text": [
      "100%|██████████| 114/114 [00:38<00:00,  2.96it/s, Epoch=6, Loss=0.941]\n"
     ]
    },
    {
     "name": "stdout",
     "output_type": "stream",
     "text": [
      "Epoch 6 finished. Took 38.55s.\n",
      "Validation Loss: 1.3546169847249985, Validation Accuracy: 43.67%\n"
     ]
    },
    {
     "name": "stderr",
     "output_type": "stream",
     "text": [
      "100%|██████████| 114/114 [00:38<00:00,  2.95it/s, Epoch=7, Loss=0.934]\n"
     ]
    },
    {
     "name": "stdout",
     "output_type": "stream",
     "text": [
      "Epoch 7 finished. Took 38.70s.\n",
      "Validation Loss: 1.5949870735406875, Validation Accuracy: 38.33%\n"
     ]
    },
    {
     "name": "stderr",
     "output_type": "stream",
     "text": [
      "100%|██████████| 114/114 [00:39<00:00,  2.88it/s, Epoch=8, Loss=0.921]\n"
     ]
    },
    {
     "name": "stdout",
     "output_type": "stream",
     "text": [
      "Epoch 8 finished. Took 39.54s.\n",
      "Validation Loss: 1.1265168488025665, Validation Accuracy: 53.33%\n"
     ]
    },
    {
     "name": "stderr",
     "output_type": "stream",
     "text": [
      "100%|██████████| 114/114 [00:39<00:00,  2.92it/s, Epoch=9, Loss=0.883]\n"
     ]
    },
    {
     "name": "stdout",
     "output_type": "stream",
     "text": [
      "Epoch 9 finished. Took 39.08s.\n",
      "Validation Loss: 1.107254073023796, Validation Accuracy: 55.00%\n"
     ]
    },
    {
     "name": "stderr",
     "output_type": "stream",
     "text": [
      "100%|██████████| 114/114 [00:39<00:00,  2.92it/s, Epoch=10, Loss=0.883]\n"
     ]
    },
    {
     "name": "stdout",
     "output_type": "stream",
     "text": [
      "Epoch 10 finished. Took 39.05s.\n",
      "Validation Loss: 1.0224508672952652, Validation Accuracy: 53.67%\n"
     ]
    },
    {
     "name": "stderr",
     "output_type": "stream",
     "text": [
      "100%|██████████| 114/114 [00:40<00:00,  2.84it/s, Epoch=11, Loss=0.881]\n"
     ]
    },
    {
     "name": "stdout",
     "output_type": "stream",
     "text": [
      "Epoch 11 finished. Took 40.16s.\n",
      "Validation Loss: 1.1649601593613625, Validation Accuracy: 49.67%\n"
     ]
    },
    {
     "name": "stderr",
     "output_type": "stream",
     "text": [
      "100%|██████████| 114/114 [00:39<00:00,  2.89it/s, Epoch=12, Loss=0.839]\n"
     ]
    },
    {
     "name": "stdout",
     "output_type": "stream",
     "text": [
      "Epoch 12 finished. Took 39.45s.\n",
      "Validation Loss: 1.6116022273898125, Validation Accuracy: 47.67%\n"
     ]
    },
    {
     "name": "stderr",
     "output_type": "stream",
     "text": [
      "100%|██████████| 114/114 [00:38<00:00,  2.97it/s, Epoch=13, Loss=0.834]\n"
     ]
    },
    {
     "name": "stdout",
     "output_type": "stream",
     "text": [
      "Epoch 13 finished. Took 38.35s.\n",
      "Validation Loss: 1.6086828693747521, Validation Accuracy: 48.67%\n"
     ]
    },
    {
     "name": "stderr",
     "output_type": "stream",
     "text": [
      "100%|██████████| 114/114 [00:38<00:00,  2.99it/s, Epoch=14, Loss=0.822]\n"
     ]
    },
    {
     "name": "stdout",
     "output_type": "stream",
     "text": [
      "Epoch 14 finished. Took 38.19s.\n",
      "Validation Loss: 1.0499308824539184, Validation Accuracy: 58.00%\n"
     ]
    },
    {
     "name": "stderr",
     "output_type": "stream",
     "text": [
      "100%|██████████| 114/114 [00:38<00:00,  2.99it/s, Epoch=15, Loss=0.812]\n"
     ]
    },
    {
     "name": "stdout",
     "output_type": "stream",
     "text": [
      "Epoch 15 finished. Took 38.16s.\n",
      "Validation Loss: 0.9844160735607147, Validation Accuracy: 57.33%\n"
     ]
    },
    {
     "name": "stderr",
     "output_type": "stream",
     "text": [
      "100%|██████████| 114/114 [00:38<00:00,  2.99it/s, Epoch=16, Loss=0.794]\n"
     ]
    },
    {
     "name": "stdout",
     "output_type": "stream",
     "text": [
      "Epoch 16 finished. Took 38.14s.\n",
      "Validation Loss: 2.2198938466608524, Validation Accuracy: 34.67%\n"
     ]
    },
    {
     "name": "stderr",
     "output_type": "stream",
     "text": [
      "100%|██████████| 114/114 [00:38<00:00,  2.98it/s, Epoch=17, Loss=0.771]\n"
     ]
    },
    {
     "name": "stdout",
     "output_type": "stream",
     "text": [
      "Epoch 17 finished. Took 38.22s.\n",
      "Validation Loss: 0.8126440733671189, Validation Accuracy: 69.33%\n"
     ]
    },
    {
     "name": "stderr",
     "output_type": "stream",
     "text": [
      "100%|██████████| 114/114 [00:38<00:00,  2.98it/s, Epoch=18, Loss=0.772]\n"
     ]
    },
    {
     "name": "stdout",
     "output_type": "stream",
     "text": [
      "Epoch 18 finished. Took 38.25s.\n",
      "Validation Loss: 1.0093697309494019, Validation Accuracy: 59.33%\n"
     ]
    },
    {
     "name": "stderr",
     "output_type": "stream",
     "text": [
      "100%|██████████| 114/114 [00:38<00:00,  2.97it/s, Epoch=19, Loss=0.755]\n"
     ]
    },
    {
     "name": "stdout",
     "output_type": "stream",
     "text": [
      "Epoch 19 finished. Took 38.44s.\n",
      "Validation Loss: 1.6362508043646813, Validation Accuracy: 45.67%\n"
     ]
    },
    {
     "name": "stderr",
     "output_type": "stream",
     "text": [
      "100%|██████████| 114/114 [00:38<00:00,  2.97it/s, Epoch=20, Loss=0.77] \n"
     ]
    },
    {
     "name": "stdout",
     "output_type": "stream",
     "text": [
      "Epoch 20 finished. Took 38.39s.\n",
      "Validation Loss: 0.7634054094552993, Validation Accuracy: 66.67%\n"
     ]
    },
    {
     "name": "stderr",
     "output_type": "stream",
     "text": [
      "100%|██████████| 114/114 [00:38<00:00,  3.00it/s, Epoch=21, Loss=0.751]\n"
     ]
    },
    {
     "name": "stdout",
     "output_type": "stream",
     "text": [
      "Epoch 21 finished. Took 38.05s.\n",
      "Validation Loss: 1.2253301113843917, Validation Accuracy: 54.67%\n"
     ]
    },
    {
     "name": "stderr",
     "output_type": "stream",
     "text": [
      "100%|██████████| 114/114 [00:38<00:00,  2.97it/s, Epoch=22, Loss=0.739]\n"
     ]
    },
    {
     "name": "stdout",
     "output_type": "stream",
     "text": [
      "Epoch 22 finished. Took 38.42s.\n",
      "Validation Loss: 1.9421815171837806, Validation Accuracy: 39.33%\n"
     ]
    },
    {
     "name": "stderr",
     "output_type": "stream",
     "text": [
      "100%|██████████| 114/114 [00:38<00:00,  2.99it/s, Epoch=23, Loss=0.725]\n"
     ]
    },
    {
     "name": "stdout",
     "output_type": "stream",
     "text": [
      "Epoch 23 finished. Took 38.19s.\n",
      "Validation Loss: 0.7381871044635773, Validation Accuracy: 70.33%\n"
     ]
    },
    {
     "name": "stderr",
     "output_type": "stream",
     "text": [
      "100%|██████████| 114/114 [00:40<00:00,  2.81it/s, Epoch=24, Loss=0.723]\n"
     ]
    },
    {
     "name": "stdout",
     "output_type": "stream",
     "text": [
      "Epoch 24 finished. Took 40.64s.\n",
      "Validation Loss: 0.9787269473075867, Validation Accuracy: 63.00%\n"
     ]
    },
    {
     "name": "stderr",
     "output_type": "stream",
     "text": [
      "100%|██████████| 114/114 [00:38<00:00,  2.97it/s, Epoch=25, Loss=0.705]\n"
     ]
    },
    {
     "name": "stdout",
     "output_type": "stream",
     "text": [
      "Epoch 25 finished. Took 38.40s.\n",
      "Validation Loss: 1.0001967057585717, Validation Accuracy: 61.00%\n"
     ]
    },
    {
     "name": "stderr",
     "output_type": "stream",
     "text": [
      "100%|██████████| 114/114 [00:38<00:00,  2.93it/s, Epoch=26, Loss=0.702]\n"
     ]
    },
    {
     "name": "stdout",
     "output_type": "stream",
     "text": [
      "Epoch 26 finished. Took 38.97s.\n",
      "Validation Loss: 1.6601491041481495, Validation Accuracy: 44.67%\n"
     ]
    },
    {
     "name": "stderr",
     "output_type": "stream",
     "text": [
      "100%|██████████| 114/114 [00:38<00:00,  2.98it/s, Epoch=27, Loss=0.709]\n"
     ]
    },
    {
     "name": "stdout",
     "output_type": "stream",
     "text": [
      "Epoch 27 finished. Took 38.27s.\n",
      "Validation Loss: 0.8329059600830078, Validation Accuracy: 67.00%\n"
     ]
    },
    {
     "name": "stderr",
     "output_type": "stream",
     "text": [
      "100%|██████████| 114/114 [00:38<00:00,  2.97it/s, Epoch=28, Loss=0.694]\n"
     ]
    },
    {
     "name": "stdout",
     "output_type": "stream",
     "text": [
      "Epoch 28 finished. Took 38.39s.\n",
      "Validation Loss: 0.736777663230896, Validation Accuracy: 70.67%\n"
     ]
    },
    {
     "name": "stderr",
     "output_type": "stream",
     "text": [
      "100%|██████████| 114/114 [00:38<00:00,  2.98it/s, Epoch=29, Loss=0.674]\n"
     ]
    },
    {
     "name": "stdout",
     "output_type": "stream",
     "text": [
      "Epoch 29 finished. Took 38.28s.\n",
      "Validation Loss: 0.9041874051094055, Validation Accuracy: 61.67%\n"
     ]
    },
    {
     "name": "stderr",
     "output_type": "stream",
     "text": [
      "100%|██████████| 114/114 [00:38<00:00,  2.98it/s, Epoch=30, Loss=0.703]\n"
     ]
    },
    {
     "name": "stdout",
     "output_type": "stream",
     "text": [
      "Epoch 30 finished. Took 38.27s.\n",
      "Validation Loss: 0.712952795624733, Validation Accuracy: 74.00%\n"
     ]
    },
    {
     "name": "stderr",
     "output_type": "stream",
     "text": [
      "100%|██████████| 114/114 [00:38<00:00,  2.98it/s, Epoch=31, Loss=0.67] \n"
     ]
    },
    {
     "name": "stdout",
     "output_type": "stream",
     "text": [
      "Epoch 31 finished. Took 38.23s.\n",
      "Validation Loss: 0.9915824055671691, Validation Accuracy: 64.33%\n"
     ]
    },
    {
     "name": "stderr",
     "output_type": "stream",
     "text": [
      "100%|██████████| 114/114 [00:38<00:00,  2.97it/s, Epoch=32, Loss=0.677]\n"
     ]
    },
    {
     "name": "stdout",
     "output_type": "stream",
     "text": [
      "Epoch 32 finished. Took 38.38s.\n",
      "Validation Loss: 0.7934791393578052, Validation Accuracy: 66.33%\n"
     ]
    },
    {
     "name": "stderr",
     "output_type": "stream",
     "text": [
      "100%|██████████| 114/114 [00:38<00:00,  2.96it/s, Epoch=33, Loss=0.678]\n"
     ]
    },
    {
     "name": "stdout",
     "output_type": "stream",
     "text": [
      "Epoch 33 finished. Took 38.54s.\n",
      "Validation Loss: 1.3902435906231403, Validation Accuracy: 50.67%\n"
     ]
    },
    {
     "name": "stderr",
     "output_type": "stream",
     "text": [
      "100%|██████████| 114/114 [00:38<00:00,  2.98it/s, Epoch=34, Loss=0.632]\n"
     ]
    },
    {
     "name": "stdout",
     "output_type": "stream",
     "text": [
      "Epoch 34 finished. Took 38.31s.\n",
      "Validation Loss: 0.984803007543087, Validation Accuracy: 59.67%\n"
     ]
    },
    {
     "name": "stderr",
     "output_type": "stream",
     "text": [
      "100%|██████████| 114/114 [00:38<00:00,  2.97it/s, Epoch=35, Loss=0.649]\n"
     ]
    },
    {
     "name": "stdout",
     "output_type": "stream",
     "text": [
      "Epoch 35 finished. Took 38.32s.\n",
      "Validation Loss: 0.5703078061342239, Validation Accuracy: 79.33%\n"
     ]
    },
    {
     "name": "stderr",
     "output_type": "stream",
     "text": [
      "100%|██████████| 114/114 [00:38<00:00,  2.98it/s, Epoch=36, Loss=0.641]\n"
     ]
    },
    {
     "name": "stdout",
     "output_type": "stream",
     "text": [
      "Epoch 36 finished. Took 38.29s.\n",
      "Validation Loss: 1.013572570681572, Validation Accuracy: 60.00%\n"
     ]
    },
    {
     "name": "stderr",
     "output_type": "stream",
     "text": [
      "100%|██████████| 114/114 [00:38<00:00,  2.97it/s, Epoch=37, Loss=0.644]\n"
     ]
    },
    {
     "name": "stdout",
     "output_type": "stream",
     "text": [
      "Epoch 37 finished. Took 38.38s.\n",
      "Validation Loss: 0.7066848009824753, Validation Accuracy: 74.00%\n"
     ]
    },
    {
     "name": "stderr",
     "output_type": "stream",
     "text": [
      "100%|██████████| 114/114 [00:38<00:00,  2.97it/s, Epoch=38, Loss=0.626]\n"
     ]
    },
    {
     "name": "stdout",
     "output_type": "stream",
     "text": [
      "Epoch 38 finished. Took 38.36s.\n",
      "Validation Loss: 0.7048078760504722, Validation Accuracy: 72.00%\n"
     ]
    },
    {
     "name": "stderr",
     "output_type": "stream",
     "text": [
      "100%|██████████| 114/114 [00:38<00:00,  2.96it/s, Epoch=39, Loss=0.642]\n"
     ]
    },
    {
     "name": "stdout",
     "output_type": "stream",
     "text": [
      "Epoch 39 finished. Took 38.53s.\n",
      "Validation Loss: 0.9685895681381226, Validation Accuracy: 62.33%\n"
     ]
    },
    {
     "name": "stderr",
     "output_type": "stream",
     "text": [
      "100%|██████████| 114/114 [00:38<00:00,  2.96it/s, Epoch=40, Loss=0.627]\n"
     ]
    },
    {
     "name": "stdout",
     "output_type": "stream",
     "text": [
      "Epoch 40 finished. Took 38.51s.\n",
      "Validation Loss: 2.1458848025649786, Validation Accuracy: 39.33%\n"
     ]
    },
    {
     "name": "stderr",
     "output_type": "stream",
     "text": [
      "100%|██████████| 114/114 [00:38<00:00,  2.98it/s, Epoch=41, Loss=0.619]\n"
     ]
    },
    {
     "name": "stdout",
     "output_type": "stream",
     "text": [
      "Epoch 41 finished. Took 38.28s.\n",
      "Validation Loss: 1.5353623293340206, Validation Accuracy: 52.67%\n"
     ]
    },
    {
     "name": "stderr",
     "output_type": "stream",
     "text": [
      "100%|██████████| 114/114 [00:38<00:00,  2.97it/s, Epoch=42, Loss=0.561]\n"
     ]
    },
    {
     "name": "stdout",
     "output_type": "stream",
     "text": [
      "Epoch 42 finished. Took 38.35s.\n",
      "Validation Loss: 0.4959984511137009, Validation Accuracy: 82.00%\n"
     ]
    },
    {
     "name": "stderr",
     "output_type": "stream",
     "text": [
      "100%|██████████| 114/114 [00:38<00:00,  2.98it/s, Epoch=43, Loss=0.537]\n"
     ]
    },
    {
     "name": "stdout",
     "output_type": "stream",
     "text": [
      "Epoch 43 finished. Took 38.30s.\n",
      "Validation Loss: 0.532388512790203, Validation Accuracy: 78.67%\n"
     ]
    },
    {
     "name": "stderr",
     "output_type": "stream",
     "text": [
      "100%|██████████| 114/114 [00:38<00:00,  2.99it/s, Epoch=44, Loss=0.536]\n"
     ]
    },
    {
     "name": "stdout",
     "output_type": "stream",
     "text": [
      "Epoch 44 finished. Took 38.18s.\n",
      "Validation Loss: 0.4698755443096161, Validation Accuracy: 82.33%\n"
     ]
    },
    {
     "name": "stderr",
     "output_type": "stream",
     "text": [
      "100%|██████████| 114/114 [00:38<00:00,  2.98it/s, Epoch=45, Loss=0.529]\n"
     ]
    },
    {
     "name": "stdout",
     "output_type": "stream",
     "text": [
      "Epoch 45 finished. Took 38.32s.\n",
      "Validation Loss: 0.4764758124947548, Validation Accuracy: 81.33%\n"
     ]
    },
    {
     "name": "stderr",
     "output_type": "stream",
     "text": [
      "100%|██████████| 114/114 [00:38<00:00,  2.97it/s, Epoch=46, Loss=0.504]\n"
     ]
    },
    {
     "name": "stdout",
     "output_type": "stream",
     "text": [
      "Epoch 46 finished. Took 38.36s.\n",
      "Validation Loss: 0.5786920875310898, Validation Accuracy: 77.67%\n"
     ]
    },
    {
     "name": "stderr",
     "output_type": "stream",
     "text": [
      "100%|██████████| 114/114 [00:38<00:00,  2.98it/s, Epoch=47, Loss=0.504]\n"
     ]
    },
    {
     "name": "stdout",
     "output_type": "stream",
     "text": [
      "Epoch 47 finished. Took 38.32s.\n",
      "Validation Loss: 0.5219560623168945, Validation Accuracy: 79.67%\n"
     ]
    },
    {
     "name": "stderr",
     "output_type": "stream",
     "text": [
      "100%|██████████| 114/114 [00:38<00:00,  2.99it/s, Epoch=48, Loss=0.514]\n"
     ]
    },
    {
     "name": "stdout",
     "output_type": "stream",
     "text": [
      "Epoch 48 finished. Took 38.07s.\n",
      "Validation Loss: 0.5310091882944107, Validation Accuracy: 79.33%\n"
     ]
    },
    {
     "name": "stderr",
     "output_type": "stream",
     "text": [
      "100%|██████████| 114/114 [00:38<00:00,  2.95it/s, Epoch=49, Loss=0.49] \n"
     ]
    },
    {
     "name": "stdout",
     "output_type": "stream",
     "text": [
      "Epoch 49 finished. Took 38.62s.\n",
      "Validation Loss: 0.46072949320077894, Validation Accuracy: 81.00%\n"
     ]
    },
    {
     "name": "stderr",
     "output_type": "stream",
     "text": [
      "100%|██████████| 114/114 [00:38<00:00,  2.98it/s, Epoch=50, Loss=0.508]\n"
     ]
    },
    {
     "name": "stdout",
     "output_type": "stream",
     "text": [
      "Epoch 50 finished. Took 38.25s.\n",
      "Validation Loss: 0.5406258679926396, Validation Accuracy: 77.00%\n"
     ]
    },
    {
     "name": "stderr",
     "output_type": "stream",
     "text": [
      "100%|██████████| 114/114 [00:38<00:00,  2.97it/s, Epoch=51, Loss=0.504]\n"
     ]
    },
    {
     "name": "stdout",
     "output_type": "stream",
     "text": [
      "Epoch 51 finished. Took 38.38s.\n",
      "Validation Loss: 0.5377642527222634, Validation Accuracy: 79.00%\n"
     ]
    },
    {
     "name": "stderr",
     "output_type": "stream",
     "text": [
      "100%|██████████| 114/114 [00:38<00:00,  2.97it/s, Epoch=52, Loss=0.511]\n"
     ]
    },
    {
     "name": "stdout",
     "output_type": "stream",
     "text": [
      "Epoch 52 finished. Took 38.44s.\n",
      "Validation Loss: 0.5449214339256286, Validation Accuracy: 80.33%\n"
     ]
    },
    {
     "name": "stderr",
     "output_type": "stream",
     "text": [
      "100%|██████████| 114/114 [00:38<00:00,  2.97it/s, Epoch=53, Loss=0.492]\n"
     ]
    },
    {
     "name": "stdout",
     "output_type": "stream",
     "text": [
      "Epoch 53 finished. Took 38.39s.\n",
      "Validation Loss: 0.44641302675008776, Validation Accuracy: 80.33%\n"
     ]
    },
    {
     "name": "stderr",
     "output_type": "stream",
     "text": [
      "100%|██████████| 114/114 [00:37<00:00,  3.00it/s, Epoch=54, Loss=0.501]\n"
     ]
    },
    {
     "name": "stdout",
     "output_type": "stream",
     "text": [
      "Epoch 54 finished. Took 37.97s.\n",
      "Validation Loss: 0.4762830018997192, Validation Accuracy: 81.00%\n"
     ]
    },
    {
     "name": "stderr",
     "output_type": "stream",
     "text": [
      "100%|██████████| 114/114 [00:38<00:00,  2.94it/s, Epoch=55, Loss=0.463]\n"
     ]
    },
    {
     "name": "stdout",
     "output_type": "stream",
     "text": [
      "Epoch 55 finished. Took 38.77s.\n",
      "Validation Loss: 0.4296741262078285, Validation Accuracy: 84.00%\n"
     ]
    },
    {
     "name": "stderr",
     "output_type": "stream",
     "text": [
      "100%|██████████| 114/114 [00:38<00:00,  2.94it/s, Epoch=56, Loss=0.503]\n"
     ]
    },
    {
     "name": "stdout",
     "output_type": "stream",
     "text": [
      "Epoch 56 finished. Took 38.73s.\n",
      "Validation Loss: 0.54638791680336, Validation Accuracy: 80.33%\n"
     ]
    },
    {
     "name": "stderr",
     "output_type": "stream",
     "text": [
      "100%|██████████| 114/114 [00:38<00:00,  2.95it/s, Epoch=57, Loss=0.459]\n"
     ]
    },
    {
     "name": "stdout",
     "output_type": "stream",
     "text": [
      "Epoch 57 finished. Took 38.70s.\n",
      "Validation Loss: 0.4428883597254753, Validation Accuracy: 84.00%\n"
     ]
    },
    {
     "name": "stderr",
     "output_type": "stream",
     "text": [
      "100%|██████████| 114/114 [00:38<00:00,  2.95it/s, Epoch=58, Loss=0.477]\n"
     ]
    },
    {
     "name": "stdout",
     "output_type": "stream",
     "text": [
      "Epoch 58 finished. Took 38.68s.\n",
      "Validation Loss: 0.43671863749623296, Validation Accuracy: 84.00%\n"
     ]
    },
    {
     "name": "stderr",
     "output_type": "stream",
     "text": [
      "100%|██████████| 114/114 [00:38<00:00,  2.94it/s, Epoch=59, Loss=0.472]\n"
     ]
    },
    {
     "name": "stdout",
     "output_type": "stream",
     "text": [
      "Epoch 59 finished. Took 38.79s.\n",
      "Validation Loss: 0.46965655982494353, Validation Accuracy: 80.67%\n"
     ]
    },
    {
     "name": "stderr",
     "output_type": "stream",
     "text": [
      "100%|██████████| 114/114 [00:38<00:00,  2.94it/s, Epoch=60, Loss=0.468]\n"
     ]
    },
    {
     "name": "stdout",
     "output_type": "stream",
     "text": [
      "Epoch 60 finished. Took 38.82s.\n",
      "Validation Loss: 0.45107143372297287, Validation Accuracy: 82.00%\n"
     ]
    },
    {
     "name": "stderr",
     "output_type": "stream",
     "text": [
      "100%|██████████| 114/114 [00:38<00:00,  2.94it/s, Epoch=61, Loss=0.483]\n"
     ]
    },
    {
     "name": "stdout",
     "output_type": "stream",
     "text": [
      "Epoch 61 finished. Took 38.74s.\n",
      "Validation Loss: 0.4552366241812706, Validation Accuracy: 82.67%\n"
     ]
    },
    {
     "name": "stderr",
     "output_type": "stream",
     "text": [
      "100%|██████████| 114/114 [00:38<00:00,  2.94it/s, Epoch=62, Loss=0.453]\n"
     ]
    },
    {
     "name": "stdout",
     "output_type": "stream",
     "text": [
      "Epoch 62 finished. Took 38.72s.\n",
      "Validation Loss: 0.48829553797841074, Validation Accuracy: 79.67%\n"
     ]
    },
    {
     "name": "stderr",
     "output_type": "stream",
     "text": [
      "100%|██████████| 114/114 [00:38<00:00,  2.94it/s, Epoch=63, Loss=0.45] \n"
     ]
    },
    {
     "name": "stdout",
     "output_type": "stream",
     "text": [
      "Epoch 63 finished. Took 38.80s.\n",
      "Validation Loss: 0.43703887313604356, Validation Accuracy: 83.33%\n"
     ]
    },
    {
     "name": "stderr",
     "output_type": "stream",
     "text": [
      "100%|██████████| 114/114 [00:38<00:00,  2.92it/s, Epoch=64, Loss=0.467]\n"
     ]
    },
    {
     "name": "stdout",
     "output_type": "stream",
     "text": [
      "Epoch 64 finished. Took 39.00s.\n",
      "Validation Loss: 0.45575846955180166, Validation Accuracy: 83.00%\n"
     ]
    },
    {
     "name": "stderr",
     "output_type": "stream",
     "text": [
      "100%|██████████| 114/114 [00:38<00:00,  2.95it/s, Epoch=65, Loss=0.454]\n"
     ]
    },
    {
     "name": "stdout",
     "output_type": "stream",
     "text": [
      "Epoch 65 finished. Took 38.60s.\n",
      "Validation Loss: 0.46330613642930984, Validation Accuracy: 82.33%\n",
      "Early stopping after 65 epochs without improvement.\n"
     ]
    }
   ],
   "source": [
    "if torch.cuda.is_available():\n",
    "    print(\"GPU is available.\")\n",
    "else:\n",
    "    print(\"GPU is not available. Switching to CPU.\")\n",
    "device = torch.device(\"cuda\" if torch.cuda.is_available() else \"cpu\")\n",
    "model = model.to(device)\n",
    "criterion = torch.nn.CrossEntropyLoss().to(device)\n",
    "optimizer = optim.Adam(model.parameters(), lr=0.001)\n",
    "\n",
    "scheduler = ReduceLROnPlateau(optimizer, 'min', patience=5, verbose=True)\n",
    "best_val_loss = float('inf')  # Initialize with a large value\n",
    "\n",
    "def train(model, train_loader, optimizer, criterion, num_epochs):\n",
    "    global best_val_loss\n",
    "    patience = 10  # Number of epochs to wait for improvement\n",
    "    counter = 0  # Counter to track epochs without improvement\n",
    "    \n",
    "    for epoch in range(num_epochs):\n",
    "        model.train()\n",
    "        running_loss = 0.0\n",
    "        initial_time = time()\n",
    "        progress_bar = tqdm(enumerate(train_loader, 1), total=len(train_loader))\n",
    "        for i, (inputs, labels) in progress_bar:\n",
    "            optimizer.zero_grad()\n",
    "            # Move inputs and labels to GPU\n",
    "            inputs, labels = inputs.to(device), labels.to(device)\n",
    "            outputs, *_ = model(inputs)\n",
    "            loss = criterion(outputs, labels.squeeze())\n",
    "            loss.backward()\n",
    "            optimizer.step()\n",
    "            running_loss += loss.item()\n",
    "            \n",
    "            progress_bar.set_postfix({'Epoch': epoch+1, 'Loss': running_loss / i})\n",
    "        \n",
    "        \n",
    "        print(f\"Epoch {epoch+1} finished. Took {time() - initial_time:.2f}s.\")\n",
    "        # Validation\n",
    "        model.eval()\n",
    "        val_loss = 0.0\n",
    "        correct_val = 0\n",
    "        total_val = 0\n",
    "        with torch.no_grad():\n",
    "            for i, (inputs, labels) in enumerate(validation_loader, 1):\n",
    "                inputs, labels = inputs.to(device), labels.to(device)\n",
    "                outputs = model(inputs)\n",
    "                loss = criterion(outputs, labels.squeeze())\n",
    "                val_loss += loss.item()\n",
    "    \n",
    "                _, predicted = torch.max(outputs.data, 1)\n",
    "                labels = labels.flatten()\n",
    "                predicted = predicted.flatten()\n",
    "                total_val += labels.size(0)\n",
    "                correct_val += (predicted == labels).sum().item()\n",
    "\n",
    "        avg_val_loss = val_loss / len(validation_loader)\n",
    "        accuracy_val = correct_val / total_val\n",
    "        print(f'Validation Loss: {avg_val_loss}, Validation Accuracy: {100 * accuracy_val:.2f}%')\n",
    "        \n",
    "        scheduler.step(avg_val_loss)\n",
    "\n",
    "        # Check for early stopping\n",
    "        if avg_val_loss < best_val_loss:\n",
    "            best_val_loss = avg_val_loss\n",
    "            counter = 0\n",
    "        else:\n",
    "            counter += 1\n",
    "\n",
    "        if counter >= patience:\n",
    "            print(f'Early stopping after {epoch+1} epochs without improvement.')\n",
    "            break\n",
    "            \n",
    "num_epochs = 1000\n",
    "train(model, train_loader, optimizer, criterion, num_epochs)"
   ]
  },
  {
   "cell_type": "code",
   "execution_count": 13,
   "id": "11ac7164b5ff964b",
   "metadata": {
    "ExecuteTime": {
     "end_time": "2024-02-07T03:48:11.558035400Z",
     "start_time": "2024-02-07T03:48:08.815105800Z"
    },
    "collapsed": false
   },
   "outputs": [
    {
     "name": "stdout",
     "output_type": "stream",
     "text": [
      "Batch 1 Accuracy: 93.75%\n",
      "Batch 2 Accuracy: 96.88%\n",
      "Batch 3 Accuracy: 100.00%\n",
      "Batch 4 Accuracy: 81.25%\n",
      "Batch 5 Accuracy: 81.25%\n",
      "Batch 6 Accuracy: 62.50%\n",
      "Batch 7 Accuracy: 87.50%\n",
      "Batch 8 Accuracy: 81.25%\n",
      "Batch 9 Accuracy: 78.12%\n",
      "Batch 10 Accuracy: 71.88%\n",
      "Batch 11 Accuracy: 37.50%\n",
      "Batch 12 Accuracy: 31.25%\n",
      "Batch 13 Accuracy: 68.75%\n",
      "Batch 14 Accuracy: 65.62%\n",
      "Batch 15 Accuracy: 84.38%\n",
      "Batch 16 Accuracy: 81.25%\n"
     ]
    }
   ],
   "source": [
    "# Evaluate the model on the test set\n",
    "model.eval()\n",
    "predicted_labels = []\n",
    "\n",
    "with torch.no_grad():\n",
    "    for i, (inputs, labels) in enumerate(test_loader):\n",
    "        correct = 0\n",
    "        total = 0\n",
    "        inputs, labels = inputs.to(device), labels.to(device)\n",
    "        outputs = model(inputs)\n",
    "        _, predicted = torch.max(outputs.data, 1)\n",
    "        labels = labels.flatten()\n",
    "        predicted = predicted.flatten()\n",
    "        total += labels.size(0)\n",
    "        correct += (predicted == labels).sum().item()\n",
    "        predicted_labels.extend(predicted.tolist())\n",
    "        accuracy = correct / total\n",
    "        print(f'Batch {i+1} Accuracy: {100 * accuracy:.2f}%')"
   ]
  },
  {
   "cell_type": "code",
   "execution_count": 14,
   "id": "eb186ca1699cc787",
   "metadata": {
    "ExecuteTime": {
     "end_time": "2024-02-07T03:48:11.765438900Z",
     "start_time": "2024-02-07T03:48:11.553960800Z"
    },
    "collapsed": false
   },
   "outputs": [
    {
     "data": {
      "image/png": "[encoded data removed]",
      "text/plain": [
       "<Figure size 800x600 with 2 Axes>"
      ]
     },
     "metadata": {},
     "output_type": "display_data"
    }
   ],
   "source": [
    "def plot_confusion_matrix(true_labels, predicted_labels, class_names):\n",
    "    # Convert class names to indices for plotting\n",
    "    cm = confusion_matrix(true_labels, predicted_labels)\n",
    "    plt.figure(figsize=(8, 6))\n",
    "    sns.heatmap(cm, annot=True, fmt=\"d\", cmap=\"Blues\", xticklabels=class_names, yticklabels=class_names)\n",
    "    plt.xlabel('Predicted')\n",
    "    plt.ylabel('True')\n",
    "    plt.title('Confusion Matrix')\n",
    "    plt.show()\n",
    "\n",
    "class_mapping = {0: 'normal', 1: 'fire', 2: 'flood', 3: 'collapsed_buildings', 4: 'car_accident'}\n",
    "\n",
    "predicted_labels = np.array(predicted_labels)\n",
    "true_labels = [class_mapping[label] for label in test_data.img_labels['label']]\n",
    "true_labels = np.array([list(class_mapping.keys())[list(class_mapping.values()).index(label)] for label in true_labels])\n",
    "# Plot the confusion matrix\n",
    "plot_confusion_matrix(true_labels, predicted_labels, class_mapping.values())"
   ]
  }
 ],
 "metadata": {
  "kernelspec": {
   "display_name": "Python 3",
   "language": "python",
   "name": "python3"
  },
  "language_info": {
   "codemirror_mode": {
    "name": "ipython",
    "version": 2
   },
   "file_extension": ".py",
   "mimetype": "text/x-python",
   "name": "python",
   "nbconvert_exporter": "python",
   "pygments_lexer": "ipython2",
   "version": "2.7.6"
  }
 },
 "nbformat": 4,
 "nbformat_minor": 5
}
