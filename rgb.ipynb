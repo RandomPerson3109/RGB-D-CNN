{
 "cells": [
  {
   "cell_type": "code",
   "execution_count": 13,
   "id": "91e1f74f625086a9",
   "metadata": {
    "ExecuteTime": {
     "end_time": "2024-02-07T02:08:00.059900600Z",
     "start_time": "2024-02-07T02:08:00.056412500Z"
    },
    "collapsed": false
   },
   "outputs": [],
   "source": [
    "import csv\n",
    "import os\n",
    "import pandas as pd\n",
    "import torch\n",
    "import torch.optim as optim\n",
    "from PIL import Image\n",
    "from torch.utils.data import Dataset\n",
    "from torchvision import transforms\n",
    "from time import time\n",
    "from sklearn.metrics import confusion_matrix\n",
    "import seaborn as sns\n",
    "import matplotlib.pyplot as plt\n",
    "import numpy as np\n",
    "from torch.optim.lr_scheduler import ReduceLROnPlateau\n",
    "from tqdm import tqdm"
   ]
  },
  {
   "cell_type": "code",
   "execution_count": 14,
   "id": "e17880ebb31181ab",
   "metadata": {
    "ExecuteTime": {
     "end_time": "2024-02-07T02:08:00.095891800Z",
     "start_time": "2024-02-07T02:08:00.063426Z"
    },
    "collapsed": false
   },
   "outputs": [
    {
     "name": "stdout",
     "output_type": "stream",
     "text": [
      "CSV files created.\n"
     ]
    }
   ],
   "source": [
    "def create_csv(root_folder, output_csv):\n",
    "    with open(output_csv, mode='w', newline='') as file:\n",
    "        writer = csv.writer(file)\n",
    "        writer.writerow(['image_filename', 'label'])\n",
    "\n",
    "        for label in os.listdir(root_folder):\n",
    "            label_path = os.path.join(root_folder, label)\n",
    "            if os.path.isdir(label_path):\n",
    "                for image_filename in os.listdir(label_path):\n",
    "                    image_path = os.path.join(label, image_filename)\n",
    "                    label_value = int(label)\n",
    "                    writer.writerow([image_path, label_value])\n",
    "\n",
    "# Specify the path to your \"Train\" and \"Test\" dataset folders\n",
    "train_dataset_folder = 'Train/'\n",
    "test_dataset_folder = 'Test/'\n",
    "validation_dataset_folder = \"Validation/\"\n",
    "\n",
    "# Create the CSV files\n",
    "create_csv(train_dataset_folder, \"Train/train.csv\")\n",
    "create_csv(test_dataset_folder, \"Test/test.csv\")\n",
    "create_csv(validation_dataset_folder, \"Validation/validation.csv\")\n",
    "\n",
    "print('CSV files created.')"
   ]
  },
  {
   "cell_type": "code",
   "execution_count": 15,
   "id": "e2348f69b1528ad4",
   "metadata": {
    "ExecuteTime": {
     "end_time": "2024-02-07T02:08:00.095891800Z",
     "start_time": "2024-02-07T02:08:00.089779800Z"
    },
    "collapsed": false
   },
   "outputs": [],
   "source": [
    "class AIDER(Dataset):\n",
    "    def __init__(self, annotations_file, img_dir, transform=None, target_transform=None):\n",
    "        self.img_labels = pd.read_csv(annotations_file)\n",
    "        self.img_dir = img_dir\n",
    "        self.transform = transform\n",
    "        self.target_transform = target_transform\n",
    "\n",
    "    def __len__(self):\n",
    "        return len(self.img_labels)\n",
    "\n",
    "    def __getitem__(self, idx):\n",
    "        img_path = os.path.join(self.img_dir, self.img_labels.iloc[idx, 0])\n",
    "\n",
    "        # Use PIL to open and transform the image\n",
    "        image = Image.open(img_path).convert('RGB')\n",
    "\n",
    "        label = int(self.img_labels.iloc[idx, 1])  # Convert label to integer\n",
    "        if self.transform:\n",
    "            image = self.transform(image)\n",
    "        if self.target_transform:\n",
    "            label = self.target_transform(label)\n",
    "\n",
    "        # Convert label to torch.LongTensor\n",
    "        label = torch.LongTensor([label])\n",
    "        return image, label"
   ]
  },
  {
   "cell_type": "code",
   "execution_count": 16,
   "id": "916b9f2cecb1b27d",
   "metadata": {
    "ExecuteTime": {
     "end_time": "2024-02-07T02:08:00.249879500Z",
     "start_time": "2024-02-07T02:08:00.093829400Z"
    },
    "collapsed": false
   },
   "outputs": [
    {
     "name": "stderr",
     "output_type": "stream",
     "text": [
      "Using cache found in C:\\Users\\최신우/.cache\\torch\\hub\\pytorch_vision_v0.10.0\n",
      "C:\\Users\\최신우\\AppData\\Local\\Programs\\Python\\Python311\\Lib\\site-packages\\torchvision\\models\\_utils.py:208: UserWarning: The parameter 'pretrained' is deprecated since 0.13 and may be removed in the future, please use 'weights' instead.\n",
      "  warnings.warn(\n",
      "C:\\Users\\최신우\\AppData\\Local\\Programs\\Python\\Python311\\Lib\\site-packages\\torchvision\\models\\_utils.py:223: UserWarning: Arguments other than a weight enum or `None` for 'weights' are deprecated since 0.13 and may be removed in the future. The current behavior is equivalent to passing `weights=None`.\n",
      "  warnings.warn(msg)\n",
      "C:\\Users\\최신우\\AppData\\Local\\Programs\\Python\\Python311\\Lib\\site-packages\\torchvision\\models\\googlenet.py:47: FutureWarning: The default weight initialization of GoogleNet will be changed in future releases of torchvision. If you wish to keep the old behavior (which leads to long initialization times due to scipy/scipy#11299), please set init_weights=True.\n",
      "  warnings.warn(\n"
     ]
    }
   ],
   "source": [
    "model = torch.hub.load('pytorch/vision:v0.10.0', 'googlenet', pretrained=False)\n",
    "in_features = model.fc.in_features\n",
    "model.fc = torch.nn.Linear(in_features, 5)"
   ]
  },
  {
   "cell_type": "code",
   "execution_count": 17,
   "id": "e81e6fbed7fa2376",
   "metadata": {
    "ExecuteTime": {
     "end_time": "2024-02-07T02:08:00.267633300Z",
     "start_time": "2024-02-07T02:08:00.249879500Z"
    },
    "collapsed": false
   },
   "outputs": [],
   "source": [
    "training_data = AIDER(\n",
    "    annotations_file=\"Train/train.csv\",\n",
    "    img_dir=\"Train/\",\n",
    "    transform=transforms.Compose([\n",
    "        transforms.RandomResizedCrop(224),\n",
    "        transforms.RandomHorizontalFlip(),\n",
    "        transforms.ColorJitter(brightness=0.2, contrast=0.2, saturation=0.2, hue=0.1),\n",
    "        transforms.ToTensor(),\n",
    "        transforms.Normalize(mean=[0.485, 0.456, 0.406], std=[0.229, 0.224, 0.225]),\n",
    "    ])\n",
    ")\n",
    "\n",
    "test_data = AIDER(\n",
    "    annotations_file=\"Test/test.csv\",\n",
    "    img_dir=\"Test/\",\n",
    "    transform=transforms.Compose([\n",
    "        transforms.Resize(256),\n",
    "        transforms.CenterCrop(224),\n",
    "        transforms.ToTensor(),\n",
    "        transforms.Normalize(mean=[0.485, 0.456, 0.406], std=[0.229, 0.224, 0.225]),\n",
    "    ])\n",
    ")\n",
    "\n",
    "validation_data = AIDER(\n",
    "    annotations_file=\"Validation/validation.csv\",\n",
    "    img_dir=\"Validation/\",\n",
    "    transform=transforms.Compose([\n",
    "        transforms.Resize(256),\n",
    "        transforms.CenterCrop(224),\n",
    "        transforms.ToTensor(),\n",
    "        transforms.Normalize(mean=[0.485, 0.456, 0.406], std=[0.229, 0.224, 0.225]),\n",
    "    ])\n",
    ")\n",
    "\n",
    "\n",
    "\n",
    "train_loader = torch.utils.data.DataLoader(training_data, batch_size=32, shuffle=True, pin_memory=True)\n",
    "test_loader = torch.utils.data.DataLoader(test_data, batch_size=32, shuffle=False, pin_memory=True)\n",
    "validation_loader = torch.utils.data.DataLoader(validation_data, batch_size=32, shuffle=False, pin_memory=True)"
   ]
  },
  {
   "cell_type": "code",
   "execution_count": 18,
   "id": "ce250269c784056d",
   "metadata": {
    "ExecuteTime": {
     "end_time": "2024-02-07T02:54:55.219844500Z",
     "start_time": "2024-02-07T02:08:00.267633300Z"
    },
    "collapsed": false
   },
   "outputs": [
    {
     "name": "stderr",
     "output_type": "stream",
     "text": [
      "C:\\Users\\최신우\\AppData\\Local\\Programs\\Python\\Python311\\Lib\\site-packages\\torch\\optim\\lr_scheduler.py:28: UserWarning: The verbose parameter is deprecated. Please use get_last_lr() to access the learning rate.\n",
      "  warnings.warn(\"The verbose parameter is deprecated. Please use get_last_lr() \"\n"
     ]
    },
    {
     "name": "stdout",
     "output_type": "stream",
     "text": [
      "GPU is available.\n"
     ]
    },
    {
     "name": "stderr",
     "output_type": "stream",
     "text": [
      "100%|██████████| 114/114 [00:40<00:00,  2.83it/s, Epoch=1, Loss=1.15]\n"
     ]
    },
    {
     "name": "stdout",
     "output_type": "stream",
     "text": [
      "Epoch 1 finished. Took 40.29s.\n",
      "Validation Loss: 1.4609862327575684, Validation Accuracy: 40.33%\n"
     ]
    },
    {
     "name": "stderr",
     "output_type": "stream",
     "text": [
      "100%|██████████| 114/114 [00:40<00:00,  2.82it/s, Epoch=2, Loss=1.01]\n"
     ]
    },
    {
     "name": "stdout",
     "output_type": "stream",
     "text": [
      "Epoch 2 finished. Took 40.38s.\n",
      "Validation Loss: 1.257293900847435, Validation Accuracy: 41.67%\n"
     ]
    },
    {
     "name": "stderr",
     "output_type": "stream",
     "text": [
      "100%|██████████| 114/114 [00:42<00:00,  2.69it/s, Epoch=3, Loss=1]    \n"
     ]
    },
    {
     "name": "stdout",
     "output_type": "stream",
     "text": [
      "Epoch 3 finished. Took 42.45s.\n",
      "Validation Loss: 1.4296580314636231, Validation Accuracy: 39.33%\n"
     ]
    },
    {
     "name": "stderr",
     "output_type": "stream",
     "text": [
      "100%|██████████| 114/114 [00:39<00:00,  2.92it/s, Epoch=4, Loss=0.991]\n"
     ]
    },
    {
     "name": "stdout",
     "output_type": "stream",
     "text": [
      "Epoch 4 finished. Took 39.05s.\n",
      "Validation Loss: 1.306017392873764, Validation Accuracy: 44.67%\n"
     ]
    },
    {
     "name": "stderr",
     "output_type": "stream",
     "text": [
      "100%|██████████| 114/114 [00:39<00:00,  2.92it/s, Epoch=5, Loss=0.925]\n"
     ]
    },
    {
     "name": "stdout",
     "output_type": "stream",
     "text": [
      "Epoch 5 finished. Took 39.10s.\n",
      "Validation Loss: 1.171060213446617, Validation Accuracy: 46.00%\n"
     ]
    },
    {
     "name": "stderr",
     "output_type": "stream",
     "text": [
      "100%|██████████| 114/114 [00:40<00:00,  2.85it/s, Epoch=6, Loss=0.916]\n"
     ]
    },
    {
     "name": "stdout",
     "output_type": "stream",
     "text": [
      "Epoch 6 finished. Took 40.02s.\n",
      "Validation Loss: 1.1739998400211333, Validation Accuracy: 52.67%\n"
     ]
    },
    {
     "name": "stderr",
     "output_type": "stream",
     "text": [
      "100%|██████████| 114/114 [00:40<00:00,  2.83it/s, Epoch=7, Loss=0.866]\n"
     ]
    },
    {
     "name": "stdout",
     "output_type": "stream",
     "text": [
      "Epoch 7 finished. Took 40.26s.\n",
      "Validation Loss: 1.3999326601624489, Validation Accuracy: 50.67%\n"
     ]
    },
    {
     "name": "stderr",
     "output_type": "stream",
     "text": [
      "100%|██████████| 114/114 [00:41<00:00,  2.74it/s, Epoch=8, Loss=0.832]\n"
     ]
    },
    {
     "name": "stdout",
     "output_type": "stream",
     "text": [
      "Epoch 8 finished. Took 41.59s.\n",
      "Validation Loss: 1.0384833425283433, Validation Accuracy: 59.33%\n"
     ]
    },
    {
     "name": "stderr",
     "output_type": "stream",
     "text": [
      "100%|██████████| 114/114 [00:43<00:00,  2.62it/s, Epoch=9, Loss=0.814]\n"
     ]
    },
    {
     "name": "stdout",
     "output_type": "stream",
     "text": [
      "Epoch 9 finished. Took 43.51s.\n",
      "Validation Loss: 0.9950761303305626, Validation Accuracy: 61.00%\n"
     ]
    },
    {
     "name": "stderr",
     "output_type": "stream",
     "text": [
      "100%|██████████| 114/114 [00:42<00:00,  2.69it/s, Epoch=10, Loss=0.791]\n"
     ]
    },
    {
     "name": "stdout",
     "output_type": "stream",
     "text": [
      "Epoch 10 finished. Took 42.44s.\n",
      "Validation Loss: 1.0547675877809524, Validation Accuracy: 58.67%\n"
     ]
    },
    {
     "name": "stderr",
     "output_type": "stream",
     "text": [
      "100%|██████████| 114/114 [00:41<00:00,  2.72it/s, Epoch=11, Loss=0.755]\n"
     ]
    },
    {
     "name": "stdout",
     "output_type": "stream",
     "text": [
      "Epoch 11 finished. Took 41.91s.\n",
      "Validation Loss: 1.0893535301089288, Validation Accuracy: 57.67%\n"
     ]
    },
    {
     "name": "stderr",
     "output_type": "stream",
     "text": [
      "100%|██████████| 114/114 [00:39<00:00,  2.88it/s, Epoch=12, Loss=0.739]\n"
     ]
    },
    {
     "name": "stdout",
     "output_type": "stream",
     "text": [
      "Epoch 12 finished. Took 39.54s.\n",
      "Validation Loss: 0.8136534631252289, Validation Accuracy: 65.00%\n"
     ]
    },
    {
     "name": "stderr",
     "output_type": "stream",
     "text": [
      "100%|██████████| 114/114 [00:39<00:00,  2.91it/s, Epoch=13, Loss=0.715]\n"
     ]
    },
    {
     "name": "stdout",
     "output_type": "stream",
     "text": [
      "Epoch 13 finished. Took 39.18s.\n",
      "Validation Loss: 0.8488712675869465, Validation Accuracy: 65.33%\n"
     ]
    },
    {
     "name": "stderr",
     "output_type": "stream",
     "text": [
      "100%|██████████| 114/114 [00:39<00:00,  2.90it/s, Epoch=14, Loss=0.686]\n"
     ]
    },
    {
     "name": "stdout",
     "output_type": "stream",
     "text": [
      "Epoch 14 finished. Took 39.24s.\n",
      "Validation Loss: 0.7174267172813416, Validation Accuracy: 71.33%\n"
     ]
    },
    {
     "name": "stderr",
     "output_type": "stream",
     "text": [
      "100%|██████████| 114/114 [00:40<00:00,  2.85it/s, Epoch=15, Loss=0.68] \n"
     ]
    },
    {
     "name": "stdout",
     "output_type": "stream",
     "text": [
      "Epoch 15 finished. Took 40.05s.\n",
      "Validation Loss: 0.715332305431366, Validation Accuracy: 73.67%\n"
     ]
    },
    {
     "name": "stderr",
     "output_type": "stream",
     "text": [
      "100%|██████████| 114/114 [00:43<00:00,  2.64it/s, Epoch=16, Loss=0.669]\n"
     ]
    },
    {
     "name": "stdout",
     "output_type": "stream",
     "text": [
      "Epoch 16 finished. Took 43.13s.\n",
      "Validation Loss: 0.9381208710372448, Validation Accuracy: 61.00%\n"
     ]
    },
    {
     "name": "stderr",
     "output_type": "stream",
     "text": [
      "100%|██████████| 114/114 [00:42<00:00,  2.66it/s, Epoch=17, Loss=0.683]\n"
     ]
    },
    {
     "name": "stdout",
     "output_type": "stream",
     "text": [
      "Epoch 17 finished. Took 42.92s.\n",
      "Validation Loss: 0.8258731931447982, Validation Accuracy: 68.67%\n"
     ]
    },
    {
     "name": "stderr",
     "output_type": "stream",
     "text": [
      "100%|██████████| 114/114 [00:44<00:00,  2.58it/s, Epoch=18, Loss=0.656]\n"
     ]
    },
    {
     "name": "stdout",
     "output_type": "stream",
     "text": [
      "Epoch 18 finished. Took 44.24s.\n",
      "Validation Loss: 0.7259903103113174, Validation Accuracy: 70.67%\n"
     ]
    },
    {
     "name": "stderr",
     "output_type": "stream",
     "text": [
      "100%|██████████| 114/114 [00:42<00:00,  2.70it/s, Epoch=19, Loss=0.646]\n"
     ]
    },
    {
     "name": "stdout",
     "output_type": "stream",
     "text": [
      "Epoch 19 finished. Took 42.17s.\n",
      "Validation Loss: 0.7153541788458824, Validation Accuracy: 73.00%\n"
     ]
    },
    {
     "name": "stderr",
     "output_type": "stream",
     "text": [
      "100%|██████████| 114/114 [00:41<00:00,  2.77it/s, Epoch=20, Loss=0.633]\n"
     ]
    },
    {
     "name": "stdout",
     "output_type": "stream",
     "text": [
      "Epoch 20 finished. Took 41.21s.\n",
      "Validation Loss: 0.8288934350013732, Validation Accuracy: 70.67%\n"
     ]
    },
    {
     "name": "stderr",
     "output_type": "stream",
     "text": [
      "100%|██████████| 114/114 [00:40<00:00,  2.83it/s, Epoch=21, Loss=0.631]\n"
     ]
    },
    {
     "name": "stdout",
     "output_type": "stream",
     "text": [
      "Epoch 21 finished. Took 40.30s.\n",
      "Validation Loss: 0.6565207958221435, Validation Accuracy: 74.33%\n"
     ]
    },
    {
     "name": "stderr",
     "output_type": "stream",
     "text": [
      "100%|██████████| 114/114 [00:40<00:00,  2.85it/s, Epoch=22, Loss=0.633]\n"
     ]
    },
    {
     "name": "stdout",
     "output_type": "stream",
     "text": [
      "Epoch 22 finished. Took 40.05s.\n",
      "Validation Loss: 0.6225877687335014, Validation Accuracy: 76.67%\n"
     ]
    },
    {
     "name": "stderr",
     "output_type": "stream",
     "text": [
      "100%|██████████| 114/114 [00:40<00:00,  2.79it/s, Epoch=23, Loss=0.627]\n"
     ]
    },
    {
     "name": "stdout",
     "output_type": "stream",
     "text": [
      "Epoch 23 finished. Took 40.85s.\n",
      "Validation Loss: 0.6848419979214668, Validation Accuracy: 72.33%\n"
     ]
    },
    {
     "name": "stderr",
     "output_type": "stream",
     "text": [
      "100%|██████████| 114/114 [00:40<00:00,  2.78it/s, Epoch=24, Loss=0.616]\n"
     ]
    },
    {
     "name": "stdout",
     "output_type": "stream",
     "text": [
      "Epoch 24 finished. Took 40.94s.\n",
      "Validation Loss: 0.7028981819748878, Validation Accuracy: 74.33%\n"
     ]
    },
    {
     "name": "stderr",
     "output_type": "stream",
     "text": [
      "100%|██████████| 114/114 [00:42<00:00,  2.67it/s, Epoch=25, Loss=0.622]\n"
     ]
    },
    {
     "name": "stdout",
     "output_type": "stream",
     "text": [
      "Epoch 25 finished. Took 42.62s.\n",
      "Validation Loss: 0.7200578913092613, Validation Accuracy: 70.00%\n"
     ]
    },
    {
     "name": "stderr",
     "output_type": "stream",
     "text": [
      "100%|██████████| 114/114 [00:41<00:00,  2.78it/s, Epoch=26, Loss=0.596]\n"
     ]
    },
    {
     "name": "stdout",
     "output_type": "stream",
     "text": [
      "Epoch 26 finished. Took 41.04s.\n",
      "Validation Loss: 0.5939567357301712, Validation Accuracy: 79.00%\n"
     ]
    },
    {
     "name": "stderr",
     "output_type": "stream",
     "text": [
      "100%|██████████| 114/114 [00:41<00:00,  2.74it/s, Epoch=27, Loss=0.593]\n"
     ]
    },
    {
     "name": "stdout",
     "output_type": "stream",
     "text": [
      "Epoch 27 finished. Took 41.60s.\n",
      "Validation Loss: 0.6329567477107048, Validation Accuracy: 77.00%\n"
     ]
    },
    {
     "name": "stderr",
     "output_type": "stream",
     "text": [
      "100%|██████████| 114/114 [00:41<00:00,  2.76it/s, Epoch=28, Loss=0.587]\n"
     ]
    },
    {
     "name": "stdout",
     "output_type": "stream",
     "text": [
      "Epoch 28 finished. Took 41.30s.\n",
      "Validation Loss: 0.568227669596672, Validation Accuracy: 79.67%\n"
     ]
    },
    {
     "name": "stderr",
     "output_type": "stream",
     "text": [
      "100%|██████████| 114/114 [00:41<00:00,  2.77it/s, Epoch=29, Loss=0.58] \n"
     ]
    },
    {
     "name": "stdout",
     "output_type": "stream",
     "text": [
      "Epoch 29 finished. Took 41.18s.\n",
      "Validation Loss: 0.669192910194397, Validation Accuracy: 72.33%\n"
     ]
    },
    {
     "name": "stderr",
     "output_type": "stream",
     "text": [
      "100%|██████████| 114/114 [00:39<00:00,  2.90it/s, Epoch=30, Loss=0.579]\n"
     ]
    },
    {
     "name": "stdout",
     "output_type": "stream",
     "text": [
      "Epoch 30 finished. Took 39.32s.\n",
      "Validation Loss: 0.5580920651555061, Validation Accuracy: 76.67%\n"
     ]
    },
    {
     "name": "stderr",
     "output_type": "stream",
     "text": [
      "100%|██████████| 114/114 [00:39<00:00,  2.86it/s, Epoch=31, Loss=0.561]\n"
     ]
    },
    {
     "name": "stdout",
     "output_type": "stream",
     "text": [
      "Epoch 31 finished. Took 39.82s.\n",
      "Validation Loss: 0.5732960924506187, Validation Accuracy: 78.00%\n"
     ]
    },
    {
     "name": "stderr",
     "output_type": "stream",
     "text": [
      "100%|██████████| 114/114 [00:40<00:00,  2.82it/s, Epoch=32, Loss=0.557]\n"
     ]
    },
    {
     "name": "stdout",
     "output_type": "stream",
     "text": [
      "Epoch 32 finished. Took 40.41s.\n",
      "Validation Loss: 0.7399577841162681, Validation Accuracy: 73.00%\n"
     ]
    },
    {
     "name": "stderr",
     "output_type": "stream",
     "text": [
      "100%|██████████| 114/114 [00:38<00:00,  2.97it/s, Epoch=33, Loss=0.562]\n"
     ]
    },
    {
     "name": "stdout",
     "output_type": "stream",
     "text": [
      "Epoch 33 finished. Took 38.39s.\n",
      "Validation Loss: 0.5368067115545273, Validation Accuracy: 78.33%\n"
     ]
    },
    {
     "name": "stderr",
     "output_type": "stream",
     "text": [
      "100%|██████████| 114/114 [00:38<00:00,  2.99it/s, Epoch=34, Loss=0.556]\n"
     ]
    },
    {
     "name": "stdout",
     "output_type": "stream",
     "text": [
      "Epoch 34 finished. Took 38.10s.\n",
      "Validation Loss: 0.7263921119272709, Validation Accuracy: 75.00%\n"
     ]
    },
    {
     "name": "stderr",
     "output_type": "stream",
     "text": [
      "100%|██████████| 114/114 [00:38<00:00,  2.98it/s, Epoch=35, Loss=0.54] \n"
     ]
    },
    {
     "name": "stdout",
     "output_type": "stream",
     "text": [
      "Epoch 35 finished. Took 38.30s.\n",
      "Validation Loss: 0.5373688906431198, Validation Accuracy: 80.33%\n"
     ]
    },
    {
     "name": "stderr",
     "output_type": "stream",
     "text": [
      "100%|██████████| 114/114 [00:38<00:00,  2.95it/s, Epoch=36, Loss=0.509]\n"
     ]
    },
    {
     "name": "stdout",
     "output_type": "stream",
     "text": [
      "Epoch 36 finished. Took 38.59s.\n",
      "Validation Loss: 0.6036685444414616, Validation Accuracy: 78.00%\n"
     ]
    },
    {
     "name": "stderr",
     "output_type": "stream",
     "text": [
      "100%|██████████| 114/114 [00:39<00:00,  2.90it/s, Epoch=37, Loss=0.544]\n"
     ]
    },
    {
     "name": "stdout",
     "output_type": "stream",
     "text": [
      "Epoch 37 finished. Took 39.32s.\n",
      "Validation Loss: 0.6735112845897675, Validation Accuracy: 73.67%\n"
     ]
    },
    {
     "name": "stderr",
     "output_type": "stream",
     "text": [
      "100%|██████████| 114/114 [00:39<00:00,  2.89it/s, Epoch=38, Loss=0.518]\n"
     ]
    },
    {
     "name": "stdout",
     "output_type": "stream",
     "text": [
      "Epoch 38 finished. Took 39.44s.\n",
      "Validation Loss: 0.584920933842659, Validation Accuracy: 77.33%\n"
     ]
    },
    {
     "name": "stderr",
     "output_type": "stream",
     "text": [
      "100%|██████████| 114/114 [00:37<00:00,  3.03it/s, Epoch=39, Loss=0.503]\n"
     ]
    },
    {
     "name": "stdout",
     "output_type": "stream",
     "text": [
      "Epoch 39 finished. Took 37.60s.\n",
      "Validation Loss: 0.5285369113087655, Validation Accuracy: 81.33%\n"
     ]
    },
    {
     "name": "stderr",
     "output_type": "stream",
     "text": [
      "100%|██████████| 114/114 [00:38<00:00,  3.00it/s, Epoch=40, Loss=0.508]\n"
     ]
    },
    {
     "name": "stdout",
     "output_type": "stream",
     "text": [
      "Epoch 40 finished. Took 38.01s.\n",
      "Validation Loss: 0.6774002023041248, Validation Accuracy: 72.00%\n"
     ]
    },
    {
     "name": "stderr",
     "output_type": "stream",
     "text": [
      "100%|██████████| 114/114 [00:39<00:00,  2.86it/s, Epoch=41, Loss=0.502]\n"
     ]
    },
    {
     "name": "stdout",
     "output_type": "stream",
     "text": [
      "Epoch 41 finished. Took 39.92s.\n",
      "Validation Loss: 0.6021749570965766, Validation Accuracy: 79.00%\n"
     ]
    },
    {
     "name": "stderr",
     "output_type": "stream",
     "text": [
      "100%|██████████| 114/114 [00:39<00:00,  2.92it/s, Epoch=42, Loss=0.499]\n"
     ]
    },
    {
     "name": "stdout",
     "output_type": "stream",
     "text": [
      "Epoch 42 finished. Took 39.10s.\n",
      "Validation Loss: 0.43230858743190764, Validation Accuracy: 85.33%\n"
     ]
    },
    {
     "name": "stderr",
     "output_type": "stream",
     "text": [
      "100%|██████████| 114/114 [00:39<00:00,  2.86it/s, Epoch=43, Loss=0.487]\n"
     ]
    },
    {
     "name": "stdout",
     "output_type": "stream",
     "text": [
      "Epoch 43 finished. Took 39.80s.\n",
      "Validation Loss: 0.5516037613153457, Validation Accuracy: 76.00%\n"
     ]
    },
    {
     "name": "stderr",
     "output_type": "stream",
     "text": [
      "100%|██████████| 114/114 [00:38<00:00,  2.94it/s, Epoch=44, Loss=0.479]\n"
     ]
    },
    {
     "name": "stdout",
     "output_type": "stream",
     "text": [
      "Epoch 44 finished. Took 38.78s.\n",
      "Validation Loss: 0.4808586105704308, Validation Accuracy: 83.00%\n"
     ]
    },
    {
     "name": "stderr",
     "output_type": "stream",
     "text": [
      "100%|██████████| 114/114 [00:38<00:00,  2.94it/s, Epoch=45, Loss=0.477]\n"
     ]
    },
    {
     "name": "stdout",
     "output_type": "stream",
     "text": [
      "Epoch 45 finished. Took 38.83s.\n",
      "Validation Loss: 0.679856464266777, Validation Accuracy: 73.00%\n"
     ]
    },
    {
     "name": "stderr",
     "output_type": "stream",
     "text": [
      "100%|██████████| 114/114 [00:40<00:00,  2.84it/s, Epoch=46, Loss=0.48] \n"
     ]
    },
    {
     "name": "stdout",
     "output_type": "stream",
     "text": [
      "Epoch 46 finished. Took 40.17s.\n",
      "Validation Loss: 0.7419414520263672, Validation Accuracy: 76.67%\n"
     ]
    },
    {
     "name": "stderr",
     "output_type": "stream",
     "text": [
      "100%|██████████| 114/114 [00:39<00:00,  2.92it/s, Epoch=47, Loss=0.46] \n"
     ]
    },
    {
     "name": "stdout",
     "output_type": "stream",
     "text": [
      "Epoch 47 finished. Took 39.03s.\n",
      "Validation Loss: 0.6726830426603556, Validation Accuracy: 75.00%\n"
     ]
    },
    {
     "name": "stderr",
     "output_type": "stream",
     "text": [
      "100%|██████████| 114/114 [00:38<00:00,  2.94it/s, Epoch=48, Loss=0.469]\n"
     ]
    },
    {
     "name": "stdout",
     "output_type": "stream",
     "text": [
      "Epoch 48 finished. Took 38.72s.\n",
      "Validation Loss: 0.4849747747182846, Validation Accuracy: 82.67%\n"
     ]
    },
    {
     "name": "stderr",
     "output_type": "stream",
     "text": [
      "100%|██████████| 114/114 [00:38<00:00,  2.93it/s, Epoch=49, Loss=0.41] \n"
     ]
    },
    {
     "name": "stdout",
     "output_type": "stream",
     "text": [
      "Epoch 49 finished. Took 38.89s.\n",
      "Validation Loss: 0.39130174517631533, Validation Accuracy: 86.00%\n"
     ]
    },
    {
     "name": "stderr",
     "output_type": "stream",
     "text": [
      "100%|██████████| 114/114 [00:39<00:00,  2.92it/s, Epoch=50, Loss=0.389]\n"
     ]
    },
    {
     "name": "stdout",
     "output_type": "stream",
     "text": [
      "Epoch 50 finished. Took 39.10s.\n",
      "Validation Loss: 0.39662589877843857, Validation Accuracy: 84.67%\n"
     ]
    },
    {
     "name": "stderr",
     "output_type": "stream",
     "text": [
      "100%|██████████| 114/114 [00:38<00:00,  2.95it/s, Epoch=51, Loss=0.359]\n"
     ]
    },
    {
     "name": "stdout",
     "output_type": "stream",
     "text": [
      "Epoch 51 finished. Took 38.70s.\n",
      "Validation Loss: 0.3927062079310417, Validation Accuracy: 85.67%\n"
     ]
    },
    {
     "name": "stderr",
     "output_type": "stream",
     "text": [
      "100%|██████████| 114/114 [00:41<00:00,  2.78it/s, Epoch=52, Loss=0.384]\n"
     ]
    },
    {
     "name": "stdout",
     "output_type": "stream",
     "text": [
      "Epoch 52 finished. Took 41.05s.\n",
      "Validation Loss: 0.43027085810899734, Validation Accuracy: 85.33%\n"
     ]
    },
    {
     "name": "stderr",
     "output_type": "stream",
     "text": [
      "100%|██████████| 114/114 [00:38<00:00,  2.96it/s, Epoch=53, Loss=0.354]\n"
     ]
    },
    {
     "name": "stdout",
     "output_type": "stream",
     "text": [
      "Epoch 53 finished. Took 38.50s.\n",
      "Validation Loss: 0.4245906833559275, Validation Accuracy: 84.67%\n"
     ]
    },
    {
     "name": "stderr",
     "output_type": "stream",
     "text": [
      "100%|██████████| 114/114 [00:37<00:00,  3.01it/s, Epoch=54, Loss=0.355]\n"
     ]
    },
    {
     "name": "stdout",
     "output_type": "stream",
     "text": [
      "Epoch 54 finished. Took 37.93s.\n",
      "Validation Loss: 0.38584659099578855, Validation Accuracy: 86.67%\n"
     ]
    },
    {
     "name": "stderr",
     "output_type": "stream",
     "text": [
      "100%|██████████| 114/114 [00:37<00:00,  3.01it/s, Epoch=55, Loss=0.362]\n"
     ]
    },
    {
     "name": "stdout",
     "output_type": "stream",
     "text": [
      "Epoch 55 finished. Took 37.89s.\n",
      "Validation Loss: 0.3982612833380699, Validation Accuracy: 84.33%\n"
     ]
    },
    {
     "name": "stderr",
     "output_type": "stream",
     "text": [
      "100%|██████████| 114/114 [00:37<00:00,  3.03it/s, Epoch=56, Loss=0.35] \n"
     ]
    },
    {
     "name": "stdout",
     "output_type": "stream",
     "text": [
      "Epoch 56 finished. Took 37.61s.\n",
      "Validation Loss: 0.37699626609683035, Validation Accuracy: 85.67%\n"
     ]
    },
    {
     "name": "stderr",
     "output_type": "stream",
     "text": [
      "100%|██████████| 114/114 [00:37<00:00,  3.02it/s, Epoch=57, Loss=0.348]\n"
     ]
    },
    {
     "name": "stdout",
     "output_type": "stream",
     "text": [
      "Epoch 57 finished. Took 37.78s.\n",
      "Validation Loss: 0.44766041114926336, Validation Accuracy: 82.67%\n"
     ]
    },
    {
     "name": "stderr",
     "output_type": "stream",
     "text": [
      "100%|██████████| 114/114 [00:38<00:00,  2.99it/s, Epoch=58, Loss=0.343]\n"
     ]
    },
    {
     "name": "stdout",
     "output_type": "stream",
     "text": [
      "Epoch 58 finished. Took 38.12s.\n",
      "Validation Loss: 0.37501795068383215, Validation Accuracy: 85.67%\n"
     ]
    },
    {
     "name": "stderr",
     "output_type": "stream",
     "text": [
      "100%|██████████| 114/114 [00:38<00:00,  2.99it/s, Epoch=59, Loss=0.34] \n"
     ]
    },
    {
     "name": "stdout",
     "output_type": "stream",
     "text": [
      "Epoch 59 finished. Took 38.09s.\n",
      "Validation Loss: 0.47949308790266515, Validation Accuracy: 83.67%\n"
     ]
    },
    {
     "name": "stderr",
     "output_type": "stream",
     "text": [
      "100%|██████████| 114/114 [00:37<00:00,  3.03it/s, Epoch=60, Loss=0.35] \n"
     ]
    },
    {
     "name": "stdout",
     "output_type": "stream",
     "text": [
      "Epoch 60 finished. Took 37.59s.\n",
      "Validation Loss: 0.41912271864712236, Validation Accuracy: 85.67%\n"
     ]
    },
    {
     "name": "stderr",
     "output_type": "stream",
     "text": [
      "100%|██████████| 114/114 [00:37<00:00,  3.04it/s, Epoch=61, Loss=0.351]\n"
     ]
    },
    {
     "name": "stdout",
     "output_type": "stream",
     "text": [
      "Epoch 61 finished. Took 37.52s.\n",
      "Validation Loss: 0.4161902517080307, Validation Accuracy: 85.33%\n"
     ]
    },
    {
     "name": "stderr",
     "output_type": "stream",
     "text": [
      "100%|██████████| 114/114 [00:37<00:00,  3.01it/s, Epoch=62, Loss=0.339]\n"
     ]
    },
    {
     "name": "stdout",
     "output_type": "stream",
     "text": [
      "Epoch 62 finished. Took 37.91s.\n",
      "Validation Loss: 0.43110998421907426, Validation Accuracy: 86.33%\n"
     ]
    },
    {
     "name": "stderr",
     "output_type": "stream",
     "text": [
      "100%|██████████| 114/114 [00:37<00:00,  3.04it/s, Epoch=63, Loss=0.325]\n"
     ]
    },
    {
     "name": "stdout",
     "output_type": "stream",
     "text": [
      "Epoch 63 finished. Took 37.48s.\n",
      "Validation Loss: 0.49727904684841634, Validation Accuracy: 83.33%\n"
     ]
    },
    {
     "name": "stderr",
     "output_type": "stream",
     "text": [
      "100%|██████████| 114/114 [00:38<00:00,  3.00it/s, Epoch=64, Loss=0.32] \n"
     ]
    },
    {
     "name": "stdout",
     "output_type": "stream",
     "text": [
      "Epoch 64 finished. Took 38.06s.\n",
      "Validation Loss: 0.40121805779635905, Validation Accuracy: 85.67%\n"
     ]
    },
    {
     "name": "stderr",
     "output_type": "stream",
     "text": [
      "100%|██████████| 114/114 [00:38<00:00,  2.98it/s, Epoch=65, Loss=0.327]\n"
     ]
    },
    {
     "name": "stdout",
     "output_type": "stream",
     "text": [
      "Epoch 65 finished. Took 38.21s.\n",
      "Validation Loss: 0.4112942960113287, Validation Accuracy: 85.33%\n"
     ]
    },
    {
     "name": "stderr",
     "output_type": "stream",
     "text": [
      "100%|██████████| 114/114 [00:37<00:00,  3.03it/s, Epoch=66, Loss=0.334]\n"
     ]
    },
    {
     "name": "stdout",
     "output_type": "stream",
     "text": [
      "Epoch 66 finished. Took 37.67s.\n",
      "Validation Loss: 0.4059095703065395, Validation Accuracy: 85.33%\n"
     ]
    },
    {
     "name": "stderr",
     "output_type": "stream",
     "text": [
      "100%|██████████| 114/114 [00:37<00:00,  3.03it/s, Epoch=67, Loss=0.334]\n"
     ]
    },
    {
     "name": "stdout",
     "output_type": "stream",
     "text": [
      "Epoch 67 finished. Took 37.62s.\n",
      "Validation Loss: 0.4022467643022537, Validation Accuracy: 84.67%\n"
     ]
    },
    {
     "name": "stderr",
     "output_type": "stream",
     "text": [
      "100%|██████████| 114/114 [00:37<00:00,  3.03it/s, Epoch=68, Loss=0.316]\n"
     ]
    },
    {
     "name": "stdout",
     "output_type": "stream",
     "text": [
      "Epoch 68 finished. Took 37.58s.\n",
      "Validation Loss: 0.41840230822563174, Validation Accuracy: 85.00%\n",
      "Early stopping after 68 epochs without improvement.\n"
     ]
    }
   ],
   "source": [
    "if torch.cuda.is_available():\n",
    "    print(\"GPU is available.\")\n",
    "else:\n",
    "    print(\"GPU is not available. Switching to CPU.\")\n",
    "device = torch.device(\"cuda\" if torch.cuda.is_available() else \"cpu\")\n",
    "model = model.to(device)\n",
    "criterion = torch.nn.CrossEntropyLoss().to(device)\n",
    "optimizer = optim.Adam(model.parameters(), lr=0.001)\n",
    "\n",
    "scheduler = ReduceLROnPlateau(optimizer, 'min', patience=5, verbose=True)\n",
    "best_val_loss = float('inf')  # Initialize with a large value\n",
    "\n",
    "def train(model, train_loader, optimizer, criterion, num_epochs):\n",
    "    global best_val_loss\n",
    "    patience = 10  # Number of epochs to wait for improvement\n",
    "    counter = 0  # Counter to track epochs without improvement\n",
    "    \n",
    "    for epoch in range(num_epochs):\n",
    "        model.train()\n",
    "        running_loss = 0.0\n",
    "        initial_time = time()\n",
    "        progress_bar = tqdm(enumerate(train_loader, 1), total=len(train_loader))\n",
    "        for i, (inputs, labels) in progress_bar:\n",
    "            optimizer.zero_grad()\n",
    "            # Move inputs and labels to GPU\n",
    "            inputs, labels = inputs.to(device), labels.to(device)\n",
    "            outputs, *_ = model(inputs)\n",
    "            loss = criterion(outputs, labels.squeeze())\n",
    "            loss.backward()\n",
    "            optimizer.step()\n",
    "            running_loss += loss.item()\n",
    "            \n",
    "            progress_bar.set_postfix({'Epoch': epoch+1, 'Loss': running_loss / i})\n",
    "        \n",
    "        \n",
    "        print(f\"Epoch {epoch+1} finished. Took {time() - initial_time:.2f}s.\")\n",
    "        # Validation\n",
    "        model.eval()\n",
    "        val_loss = 0.0\n",
    "        correct_val = 0\n",
    "        total_val = 0\n",
    "        with torch.no_grad():\n",
    "            for i, (inputs, labels) in enumerate(validation_loader, 1):\n",
    "                inputs, labels = inputs.to(device), labels.to(device)\n",
    "                outputs = model(inputs)\n",
    "                loss = criterion(outputs, labels.squeeze())\n",
    "                val_loss += loss.item()\n",
    "    \n",
    "                _, predicted = torch.max(outputs.data, 1)\n",
    "                labels = labels.flatten()\n",
    "                predicted = predicted.flatten()\n",
    "                total_val += labels.size(0)\n",
    "                correct_val += (predicted == labels).sum().item()\n",
    "\n",
    "        avg_val_loss = val_loss / len(validation_loader)\n",
    "        accuracy_val = correct_val / total_val\n",
    "        print(f'Validation Loss: {avg_val_loss}, Validation Accuracy: {100 * accuracy_val:.2f}%')\n",
    "        \n",
    "        scheduler.step(avg_val_loss)\n",
    "\n",
    "        # Check for early stopping\n",
    "        if avg_val_loss < best_val_loss:\n",
    "            best_val_loss = avg_val_loss\n",
    "            counter = 0\n",
    "        else:\n",
    "            counter += 1\n",
    "\n",
    "        if counter >= patience:\n",
    "            print(f'Early stopping after {epoch+1} epochs without improvement.')\n",
    "            break\n",
    "            \n",
    "num_epochs = 1000\n",
    "train(model, train_loader, optimizer, criterion, num_epochs)"
   ]
  },
  {
   "cell_type": "code",
   "execution_count": 21,
   "id": "50e9027f1d589da0",
   "metadata": {
    "ExecuteTime": {
     "end_time": "2024-02-07T03:02:03.446414200Z",
     "start_time": "2024-02-07T03:02:00.492249200Z"
    },
    "collapsed": false
   },
   "outputs": [
    {
     "name": "stdout",
     "output_type": "stream",
     "text": [
      "Batch 1 Accuracy: 96.88%\n",
      "Batch 2 Accuracy: 96.88%\n",
      "Batch 3 Accuracy: 93.75%\n",
      "Batch 4 Accuracy: 100.00%\n",
      "Batch 5 Accuracy: 84.38%\n",
      "Batch 6 Accuracy: 78.12%\n",
      "Batch 7 Accuracy: 87.50%\n",
      "Batch 8 Accuracy: 84.38%\n",
      "Batch 9 Accuracy: 84.38%\n",
      "Batch 10 Accuracy: 75.00%\n",
      "Batch 11 Accuracy: 56.25%\n",
      "Batch 12 Accuracy: 53.12%\n",
      "Batch 13 Accuracy: 81.25%\n",
      "Batch 14 Accuracy: 84.38%\n",
      "Batch 15 Accuracy: 84.38%\n",
      "Batch 16 Accuracy: 90.00%\n"
     ]
    }
   ],
   "source": [
    "# Evaluate the model on the test set\n",
    "model.eval()\n",
    "predicted_labels = []\n",
    "\n",
    "with torch.no_grad():\n",
    "    for i, (inputs, labels) in enumerate(test_loader):\n",
    "        correct = 0\n",
    "        total = 0\n",
    "        inputs, labels = inputs.to(device), labels.to(device)\n",
    "        outputs = model(inputs)\n",
    "        _, predicted = torch.max(outputs.data, 1)\n",
    "        labels = labels.flatten()\n",
    "        predicted = predicted.flatten()\n",
    "        total += labels.size(0)\n",
    "        correct += (predicted == labels).sum().item()\n",
    "        predicted_labels.extend(predicted.tolist())\n",
    "        accuracy = correct / total\n",
    "        print(f'Batch {i+1} Accuracy: {100 * accuracy:.2f}%')"
   ]
  },
  {
   "cell_type": "code",
   "execution_count": 20,
   "id": "8a601b67a4bb18f1",
   "metadata": {
    "ExecuteTime": {
     "end_time": "2024-02-07T02:54:58.416907Z",
     "start_time": "2024-02-07T02:54:58.175693500Z"
    },
    "collapsed": false
   },
   "outputs": [
    {
     "data": {
      "image/png": "[encoded data removed]",
      "text/plain": [
       "<Figure size 800x600 with 2 Axes>"
      ]
     },
     "metadata": {},
     "output_type": "display_data"
    }
   ],
   "source": [
    "def plot_confusion_matrix(true_labels, predicted_labels, class_names):\n",
    "    # Convert class names to indices for plotting\n",
    "    cm = confusion_matrix(true_labels, predicted_labels)\n",
    "    plt.figure(figsize=(8, 6))\n",
    "    sns.heatmap(cm, annot=True, fmt=\"d\", cmap=\"Blues\", xticklabels=class_names, yticklabels=class_names)\n",
    "    plt.xlabel('Predicted')\n",
    "    plt.ylabel('True')\n",
    "    plt.title('Confusion Matrix')\n",
    "    plt.show()\n",
    "\n",
    "class_mapping = {0: 'normal', 1: 'fire', 2: 'flood', 3: 'collapsed_buildings', 4: 'car_accident'}\n",
    "\n",
    "predicted_labels = np.array(predicted_labels)\n",
    "true_labels = [class_mapping[label] for label in test_data.img_labels['label']]\n",
    "true_labels = np.array([list(class_mapping.keys())[list(class_mapping.values()).index(label)] for label in true_labels])\n",
    "# Plot the confusion matrix\n",
    "plot_confusion_matrix(true_labels, predicted_labels, class_mapping.values())"
   ]
  }
 ],
 "metadata": {
  "kernelspec": {
   "display_name": "Python 3",
   "language": "python",
   "name": "python3"
  },
  "language_info": {
   "codemirror_mode": {
    "name": "ipython",
    "version": 2
   },
   "file_extension": ".py",
   "mimetype": "text/x-python",
   "name": "python",
   "nbconvert_exporter": "python",
   "pygments_lexer": "ipython2",
   "version": "3.11.3"
  }
 },
 "nbformat": 4,
 "nbformat_minor": 5
}
